{
  "nbformat": 4,
  "nbformat_minor": 0,
  "metadata": {
    "colab": {
      "name": "VascodaGama.ipynb",
      "provenance": [],
      "collapsed_sections": []
    },
    "kernelspec": {
      "name": "python3",
      "display_name": "Python 3"
    }
  },
  "cells": [
    {
      "cell_type": "markdown",
      "metadata": {
        "id": "SP4LfugqErTY"
      },
      "source": [
        "Análise de Performance do Vasco da Gama no Campeonato Brasileiro de 2003 até 2019"
      ]
    },
    {
      "cell_type": "markdown",
      "metadata": {
        "id": "DjFGzMxHGJQN"
      },
      "source": [
        "Analisando o desempenho do Clube de Regatas Vasco da Gama no Campeonato Brasileiro a partir da modalidade de pontos corridos(2003) até 2019.\n",
        "O dataset utilizado pode ser encontrado para download aqui: https://github.com/thelesson/Colab-Analise-de-Performace-do-Vasco-da-Gama-no-Campeonato-Brasileiro-de-2003-ate-2019\n",
        "Faça o download do arquivo csv: \"campeonato-brasileiro-full.csv\" e importe para a raiz do projeto no Colab, acessando o menu vertical esquerdo"
      ]
    },
    {
      "cell_type": "markdown",
      "metadata": {
        "id": "Yi6W1Ey1Fn0V"
      },
      "source": [
        "***Importando as bibliotecas***"
      ]
    },
    {
      "cell_type": "code",
      "metadata": {
        "id": "qlk6_iclFs5M"
      },
      "source": [
        "import pandas as pd\n",
        "import numpy as np\n",
        "import matplotlib.pyplot as plt\n",
        "import matplotlib as rc"
      ],
      "execution_count": 5,
      "outputs": []
    },
    {
      "cell_type": "markdown",
      "metadata": {
        "id": "LrG6uuFkF0fD"
      },
      "source": [
        "**Lendo o cabeçalho do arquivo csv**"
      ]
    },
    {
      "cell_type": "code",
      "metadata": {
        "id": "tdHSOj_XF8S8",
        "outputId": "4728d62b-c2f6-45c5-a6fd-de1df04f6c34",
        "colab": {
          "base_uri": "https://localhost:8080/",
          "height": 306
        }
      },
      "source": [
        "df = pd.read_csv(\"campeonato-brasileiro-full.csv\")\n",
        "df.head()"
      ],
      "execution_count": 6,
      "outputs": [
        {
          "output_type": "execute_result",
          "data": {
            "text/html": [
              "<div>\n",
              "<style scoped>\n",
              "    .dataframe tbody tr th:only-of-type {\n",
              "        vertical-align: middle;\n",
              "    }\n",
              "\n",
              "    .dataframe tbody tr th {\n",
              "        vertical-align: top;\n",
              "    }\n",
              "\n",
              "    .dataframe thead th {\n",
              "        text-align: right;\n",
              "    }\n",
              "</style>\n",
              "<table border=\"1\" class=\"dataframe\">\n",
              "  <thead>\n",
              "    <tr style=\"text-align: right;\">\n",
              "      <th></th>\n",
              "      <th>Horário</th>\n",
              "      <th>Dia</th>\n",
              "      <th>Data</th>\n",
              "      <th>Clube 1</th>\n",
              "      <th>Clube 2</th>\n",
              "      <th>Vencedor</th>\n",
              "      <th>Rodada</th>\n",
              "      <th>Arena</th>\n",
              "      <th>Clube 1 Gols</th>\n",
              "      <th>Clube 2 Gols</th>\n",
              "      <th>Clube 1 Estado</th>\n",
              "      <th>Clube 2 Estado</th>\n",
              "      <th>Estado Clube Vencedor</th>\n",
              "    </tr>\n",
              "  </thead>\n",
              "  <tbody>\n",
              "    <tr>\n",
              "      <th>0</th>\n",
              "      <td>16h00</td>\n",
              "      <td>Sábado</td>\n",
              "      <td>2000-07-29</td>\n",
              "      <td>Fluminense</td>\n",
              "      <td>Bahia</td>\n",
              "      <td>Fluminense</td>\n",
              "      <td>1ª Rodada</td>\n",
              "      <td>Maracanã</td>\n",
              "      <td>2</td>\n",
              "      <td>0</td>\n",
              "      <td>RJ</td>\n",
              "      <td>BA</td>\n",
              "      <td>RJ</td>\n",
              "    </tr>\n",
              "    <tr>\n",
              "      <th>1</th>\n",
              "      <td>16h00</td>\n",
              "      <td>Sábado</td>\n",
              "      <td>2000-07-29</td>\n",
              "      <td>Vasco</td>\n",
              "      <td>Sport</td>\n",
              "      <td>Sport</td>\n",
              "      <td>1ª Rodada</td>\n",
              "      <td>São Januário</td>\n",
              "      <td>0</td>\n",
              "      <td>2</td>\n",
              "      <td>RJ</td>\n",
              "      <td>PE</td>\n",
              "      <td>PE</td>\n",
              "    </tr>\n",
              "    <tr>\n",
              "      <th>2</th>\n",
              "      <td>16h00</td>\n",
              "      <td>Sábado</td>\n",
              "      <td>2000-07-29</td>\n",
              "      <td>Vitória</td>\n",
              "      <td>Palmeiras</td>\n",
              "      <td>Vitória</td>\n",
              "      <td>1ª Rodada</td>\n",
              "      <td>Barradão</td>\n",
              "      <td>4</td>\n",
              "      <td>1</td>\n",
              "      <td>ES</td>\n",
              "      <td>SP</td>\n",
              "      <td>ES</td>\n",
              "    </tr>\n",
              "    <tr>\n",
              "      <th>3</th>\n",
              "      <td>17h00</td>\n",
              "      <td>Domingo</td>\n",
              "      <td>2000-07-30</td>\n",
              "      <td>Botafogo-RJ</td>\n",
              "      <td>Atlético-MG</td>\n",
              "      <td>-</td>\n",
              "      <td>1ª Rodada</td>\n",
              "      <td>Caio Martins</td>\n",
              "      <td>0</td>\n",
              "      <td>0</td>\n",
              "      <td>RJ</td>\n",
              "      <td>MG</td>\n",
              "      <td>Empate</td>\n",
              "    </tr>\n",
              "    <tr>\n",
              "      <th>4</th>\n",
              "      <td>18h30</td>\n",
              "      <td>Domingo</td>\n",
              "      <td>2000-07-30</td>\n",
              "      <td>Juventude</td>\n",
              "      <td>Flamengo</td>\n",
              "      <td>-</td>\n",
              "      <td>1ª Rodada</td>\n",
              "      <td>Alfredo Jaconi</td>\n",
              "      <td>1</td>\n",
              "      <td>1</td>\n",
              "      <td>RS</td>\n",
              "      <td>RJ</td>\n",
              "      <td>Empate</td>\n",
              "    </tr>\n",
              "  </tbody>\n",
              "</table>\n",
              "</div>"
            ],
            "text/plain": [
              "  Horário      Dia  ... Clube 2 Estado Estado Clube Vencedor\n",
              "0   16h00   Sábado  ...             BA                    RJ\n",
              "1   16h00   Sábado  ...             PE                    PE\n",
              "2   16h00   Sábado  ...             SP                    ES\n",
              "3   17h00  Domingo  ...             MG                Empate\n",
              "4   18h30  Domingo  ...             RJ                Empate\n",
              "\n",
              "[5 rows x 13 columns]"
            ]
          },
          "metadata": {
            "tags": []
          },
          "execution_count": 6
        }
      ]
    },
    {
      "cell_type": "markdown",
      "metadata": {
        "id": "0F2Q_3gVGECs"
      },
      "source": [
        "**Verificando se os nomes dos clubes estão corretos**"
      ]
    },
    {
      "cell_type": "code",
      "metadata": {
        "id": "NuDrvy5cHa7G",
        "outputId": "268f5c67-40a6-4d1b-e2e9-ae42473c20a6",
        "colab": {
          "base_uri": "https://localhost:8080/",
          "height": 204
        }
      },
      "source": [
        "print(df['Clube 1'].unique())"
      ],
      "execution_count": 7,
      "outputs": [
        {
          "output_type": "stream",
          "text": [
            "['Fluminense' 'Vasco' 'Vitória' 'Botafogo-RJ' 'Juventude' 'Guarani'\n",
            " 'Cruzeiro' 'América-MG' 'Goiás' 'Coritiba' 'Bahia' 'Flamengo' 'Gama'\n",
            " 'Internacional' 'Ponte Preta' 'Santos' 'Palmeiras' 'Athlético-PR'\n",
            " 'Corinthians' 'Atlético-MG' 'Portuguesa' 'Grêmio' 'São Paulo'\n",
            " 'Santa Cruz' 'Sport' 'INTERNACIONAL' 'Paraná' 'REMO' 'São Caetano'\n",
            " 'MALUTROM' 'PALMEIRAS' 'BAHIA' 'CRUZEIRO' 'PONTE PRETA' 'FLUMINENSE'\n",
            " 'SPORT' 'VASCO' 'Botafogo-SP' 'Figueirense' 'Paysandu' 'SANTOS'\n",
            " 'CORINTHIANS' 'JUVENTUDE' 'Fortaleza' 'Criciúma' 'Brasiliense'\n",
            " 'América-RN' 'Náutico' 'Ipatinga' 'Avaí' 'Santo André' 'Barueri'\n",
            " 'FLAMENGO' 'Atlético-GO' 'Ceará' 'Grêmio Prudente' 'Chapecoense'\n",
            " 'Joinville' 'Botafogo-rj' 'CSA']\n"
          ],
          "name": "stdout"
        }
      ]
    },
    {
      "cell_type": "code",
      "metadata": {
        "id": "GSq1LEJiHhFc",
        "outputId": "bd71514d-e2b0-4444-d9b8-20db9b0ac8ad",
        "colab": {
          "base_uri": "https://localhost:8080/",
          "height": 204
        }
      },
      "source": [
        "print(df['Clube 2'].unique())"
      ],
      "execution_count": 8,
      "outputs": [
        {
          "output_type": "stream",
          "text": [
            "['Bahia' 'Sport' 'Palmeiras' 'Atlético-MG' 'Flamengo' 'Santa Cruz'\n",
            " 'Athlético-PR' 'Gama' 'Corinthians' 'Grêmio' 'Fluminense' 'Goiás'\n",
            " 'América-MG' 'Vitória' 'Botafogo-RJ' 'Santos' 'Cruzeiro' 'Ponte Preta'\n",
            " 'Guarani' 'São Paulo' 'Portuguesa' 'Coritiba' 'Internacional' 'Juventude'\n",
            " 'Vasco' 'SPORT' 'FLUMINENSE' 'CRUZEIRO' 'PONTE PRETA' 'VASCO'\n",
            " 'INTERNACIONAL' 'Paraná' 'MALUTROM' 'São Caetano' 'REMO' 'BAHIA'\n",
            " 'PALMEIRAS' 'Botafogo-SP' 'portuguesa' 'Paysandu' 'Figueirense'\n",
            " 'JUVENTUDE' 'CORINTHIANS' 'SANTOS' 'Fortaleza' 'Criciúma' 'PAYSANDU'\n",
            " 'Brasiliense' 'Náutico' 'América-RN' 'Ipatinga' 'Barueri' 'Avaí'\n",
            " 'Santo André' 'Grêmio Prudente' 'Atlético-GO' 'Ceará' 'GUARANI'\n",
            " 'Chapecoense' 'Joinville' 'Botafogo-rj' 'CSA']\n"
          ],
          "name": "stdout"
        }
      ]
    },
    {
      "cell_type": "markdown",
      "metadata": {
        "id": "YIOEV7feH0Ts"
      },
      "source": [
        "Comparando o campo \"Clube 1\" e \"Clube 2\", note-se que alguns times estão com letras maiusculas e outros em minusculas."
      ]
    },
    {
      "cell_type": "code",
      "metadata": {
        "id": "aEn1xJREIeFE"
      },
      "source": [
        "df = df.replace(['INTERNACIONAL','REMO','MALUTROM','PALMEIRAS','BAHIA','CRUZEIRO','PONTE PRETA',\n",
        "                 'FLUMINENSE','SPORT','VASCO','SANTOS','CORINTHIANS','JUVENTUDE','FLAMENGO','GUARANI','PAYSANDU','Botafogo-RJ'],\n",
        "                ['Internacional','Remo','Malutrom','Palmeiras','Bahia','Cruzeiro','Ponte Preta',\n",
        "                 'Fluminense','Sport','Vasco','Santos','Corinthians','Juventude','Flamengo','Guarani','Paysandu','Botafogo-rj'])"
      ],
      "execution_count": 10,
      "outputs": []
    },
    {
      "cell_type": "markdown",
      "metadata": {
        "id": "UaAt9783Il20"
      },
      "source": [
        "Para melhorar a visualização e eliminar dados que não serão usados, o dataframe será limpado e criarei um novo com as seguintes colunas:\n",
        " - Ano\n",
        " -Time Mandante\n",
        " - Time Visitante\n",
        " - Gols Mandante\n",
        " - Gols Visitante\n",
        " - Vencedor"
      ]
    },
    {
      "cell_type": "markdown",
      "metadata": {
        "id": "15q1T7HEJAtc"
      },
      "source": [
        "**Criando o novo dataset**"
      ]
    },
    {
      "cell_type": "markdown",
      "metadata": {
        "id": "xosdfPL9JMlg"
      },
      "source": [
        "Eliminando todas as partidas antes de 2003 e todas as partidas que o Vasco da Gama não disputou. Vamos eliminar as colunas que não serão usadas e renomear outras colunas."
      ]
    },
    {
      "cell_type": "code",
      "metadata": {
        "id": "BoCQ1Sz2JXSj",
        "outputId": "399cfb52-d549-444e-e998-08cd7b912d62",
        "colab": {
          "base_uri": "https://localhost:8080/",
          "height": 204
        }
      },
      "source": [
        "# Criar coluna 'Ano'\n",
        "df['Data'] = pd.to_datetime(df['Data'])\n",
        "df['Ano'] = df['Data'].dt.year\n",
        "\n",
        "# Eliminar as partidas antes de 2003\n",
        "df = df.drop(df[df.Ano < 2003].index)\n",
        "\n",
        "# Eliminar colunas que não serão usadas\n",
        "df = df.drop(['Horário', 'Dia','Rodada','Arena','Clube 1 Estado','Clube 2 Estado','Estado Clube Vencedor'], axis = 1)\n",
        "\n",
        "# Renomear colunas\n",
        "df = df.rename(columns={\"Clube 1\":\"Mandante\",\"Clube 2\":\"Visitante\",\"Clube 1 Gols\":\"Mandante Gols\",\n",
        "                        \"Clube 2 Gols\":\"Visitante Gols\"})\n",
        "\n",
        "# Trocar \"-\" por \"Empate\" na coluna 'Vencedor'\n",
        "df = df.replace('-','Empate')\n",
        "\n",
        "# Criar outro dataframe\n",
        "dados = df.copy()\n",
        "\n",
        "# Eliminar partidas que o Flamengo não jogou\n",
        "df = df.drop(df[(df['Mandante'] != 'Vasco') & (df['Visitante'] != 'Vasco')].index)\n",
        "\n",
        "# Vamos dar uma olhada no dataframe\n",
        "df.to_csv('novo_dataframe.csv', sep='\\t', encoding='utf-8')\n",
        "df.head()\n"
      ],
      "execution_count": 11,
      "outputs": [
        {
          "output_type": "execute_result",
          "data": {
            "text/html": [
              "<div>\n",
              "<style scoped>\n",
              "    .dataframe tbody tr th:only-of-type {\n",
              "        vertical-align: middle;\n",
              "    }\n",
              "\n",
              "    .dataframe tbody tr th {\n",
              "        vertical-align: top;\n",
              "    }\n",
              "\n",
              "    .dataframe thead th {\n",
              "        text-align: right;\n",
              "    }\n",
              "</style>\n",
              "<table border=\"1\" class=\"dataframe\">\n",
              "  <thead>\n",
              "    <tr style=\"text-align: right;\">\n",
              "      <th></th>\n",
              "      <th>Data</th>\n",
              "      <th>Mandante</th>\n",
              "      <th>Visitante</th>\n",
              "      <th>Vencedor</th>\n",
              "      <th>Mandante Gols</th>\n",
              "      <th>Visitante Gols</th>\n",
              "      <th>Ano</th>\n",
              "    </tr>\n",
              "  </thead>\n",
              "  <tbody>\n",
              "    <tr>\n",
              "      <th>1054</th>\n",
              "      <td>2003-03-29</td>\n",
              "      <td>Guarani</td>\n",
              "      <td>Vasco</td>\n",
              "      <td>Guarani</td>\n",
              "      <td>4</td>\n",
              "      <td>2</td>\n",
              "      <td>2003</td>\n",
              "    </tr>\n",
              "    <tr>\n",
              "      <th>1075</th>\n",
              "      <td>2003-04-06</td>\n",
              "      <td>Vasco</td>\n",
              "      <td>Goiás</td>\n",
              "      <td>Vasco</td>\n",
              "      <td>6</td>\n",
              "      <td>4</td>\n",
              "      <td>2003</td>\n",
              "    </tr>\n",
              "    <tr>\n",
              "      <th>1089</th>\n",
              "      <td>2003-04-13</td>\n",
              "      <td>Vitória</td>\n",
              "      <td>Vasco</td>\n",
              "      <td>Vitória</td>\n",
              "      <td>2</td>\n",
              "      <td>1</td>\n",
              "      <td>2003</td>\n",
              "    </tr>\n",
              "    <tr>\n",
              "      <th>1091</th>\n",
              "      <td>2003-04-16</td>\n",
              "      <td>Vasco</td>\n",
              "      <td>Corinthians</td>\n",
              "      <td>Empate</td>\n",
              "      <td>2</td>\n",
              "      <td>2</td>\n",
              "      <td>2003</td>\n",
              "    </tr>\n",
              "    <tr>\n",
              "      <th>1112</th>\n",
              "      <td>2003-04-20</td>\n",
              "      <td>São Paulo</td>\n",
              "      <td>Vasco</td>\n",
              "      <td>São Paulo</td>\n",
              "      <td>3</td>\n",
              "      <td>1</td>\n",
              "      <td>2003</td>\n",
              "    </tr>\n",
              "  </tbody>\n",
              "</table>\n",
              "</div>"
            ],
            "text/plain": [
              "           Data   Mandante    Visitante  ... Mandante Gols  Visitante Gols   Ano\n",
              "1054 2003-03-29    Guarani        Vasco  ...             4               2  2003\n",
              "1075 2003-04-06      Vasco        Goiás  ...             6               4  2003\n",
              "1089 2003-04-13    Vitória        Vasco  ...             2               1  2003\n",
              "1091 2003-04-16      Vasco  Corinthians  ...             2               2  2003\n",
              "1112 2003-04-20  São Paulo        Vasco  ...             3               1  2003\n",
              "\n",
              "[5 rows x 7 columns]"
            ]
          },
          "metadata": {
            "tags": []
          },
          "execution_count": 11
        }
      ]
    },
    {
      "cell_type": "markdown",
      "metadata": {
        "id": "YYdkHlD_Jodq"
      },
      "source": [
        "**Verificando o número de jogos em cada ano**"
      ]
    },
    {
      "cell_type": "code",
      "metadata": {
        "id": "n-4Cip4mJsU6",
        "outputId": "41faccef-ad9a-435b-9643-abc043d887ef",
        "colab": {
          "base_uri": "https://localhost:8080/",
          "height": 272
        }
      },
      "source": [
        "jogos = df.groupby('Ano')['Ano'].count()\n",
        "jogos = pd.DataFrame(jogos)\n",
        "jogos.columns = ['Jogos']\n",
        "jogos.reset_index(level=0, inplace=True)\n",
        "print(jogos)"
      ],
      "execution_count": 12,
      "outputs": [
        {
          "output_type": "stream",
          "text": [
            "     Ano  Jogos\n",
            "0   2003     46\n",
            "1   2004     46\n",
            "2   2005     42\n",
            "3   2006     38\n",
            "4   2007     39\n",
            "5   2008     37\n",
            "6   2010     38\n",
            "7   2011     38\n",
            "8   2012     38\n",
            "9   2013     38\n",
            "10  2015     38\n",
            "11  2017     38\n",
            "12  2018     38\n",
            "13  2019     38\n"
          ],
          "name": "stdout"
        }
      ]
    },
    {
      "cell_type": "markdown",
      "metadata": {
        "id": "0c8G6r1YJ1Pi"
      },
      "source": [
        "**Gols Marcados pelo Vasco 2003 - 2019**"
      ]
    },
    {
      "cell_type": "markdown",
      "metadata": {
        "id": "SERi6Bc0KBhj"
      },
      "source": [
        "Criando 2 dataframes, um contendo as partidas onde o Vasco foi mandande e outro dataframe onde o Vasco foi visitante"
      ]
    },
    {
      "cell_type": "code",
      "metadata": {
        "id": "KcqOASduKViq",
        "outputId": "f030bf02-6a9b-4e33-ef07-e098dad77f6a",
        "colab": {
          "base_uri": "https://localhost:8080/",
          "height": 306
        }
      },
      "source": [
        "## Partidas como mandante ##\n",
        "# Criar um dataframe para partidas como mandante\n",
        "mandante = df.copy()\n",
        "mandante = mandante.drop(mandante[mandante['Mandante'] != 'Vasco'].index)\n",
        "\n",
        "# Criar um dataframe com nº de jogos por ano\n",
        "jogos_mandante = mandante.groupby('Ano')['Ano'].count()\n",
        "jogos_mandante = pd.DataFrame(jogos_mandante)\n",
        "jogos_mandante.columns = ['Partidas mandante']\n",
        "jogos_mandante.reset_index(level=0, inplace=True)\n",
        "\n",
        "# Dataframe com o nº de gols por edição\n",
        "gols_mandante = mandante.groupby('Ano')['Mandante Gols'].sum()\n",
        "gols_mandante = pd.DataFrame(gols_mandante)\n",
        "gols_mandante.columns = ['Mandante Gols']\n",
        "gols_mandante.reset_index(level=0, inplace=True)\n",
        "\n",
        "# Dataframe com partidas e gols por edição\n",
        "gp_mandante = jogos_mandante.merge(gols_mandante, how='left', on='Ano')\n",
        "\n",
        "# Criar coluna com a média de gols por partida\n",
        "gp_mandante['GP Mandante'] = round(gp_mandante['Mandante Gols']/gp_mandante['Partidas mandante'],2)\n",
        "\n",
        "## Partidas como visitante ##\n",
        "# Criar um dataframe para partidas como visitante\n",
        "visitante = df.copy()\n",
        "visitante = visitante.drop(visitante[visitante['Visitante'] != 'Vasco'].index)\n",
        "\n",
        "# Criar um dataframe com nº de jogos por ano\n",
        "jogos_visitante = visitante.groupby('Ano')['Ano'].count()\n",
        "jogos_visitante = pd.DataFrame(jogos_visitante)\n",
        "jogos_visitante.columns = ['Partidas visitante']\n",
        "jogos_visitante.reset_index(level=0, inplace=True)\n",
        "\n",
        "# Dataframe com o nº de gols por edição\n",
        "gols_visitante = visitante.groupby('Ano')['Visitante Gols'].sum()\n",
        "gols_visitante = pd.DataFrame(gols_visitante)\n",
        "gols_visitante.columns = ['Visitante Gols']\n",
        "gols_visitante.reset_index(level=0, inplace=True)\n",
        "\n",
        "# Dataframe com partidas e gols por edição\n",
        "gp_visitante = jogos_visitante.merge(gols_visitante, how='left', on='Ano')\n",
        "\n",
        "# Criar coluna com a média de gols por partida\n",
        "gp_visitante['GP Visitante'] = round(gp_visitante['Visitante Gols']/gp_visitante['Partidas visitante'],2)\n",
        "\n",
        "## Todas as Partidas ##\n",
        "gp_geral = gp_mandante.merge(gp_visitante, how='left', on='Ano')\n",
        "gp_geral['Partidas'] = gp_geral['Partidas mandante'] + gp_geral['Partidas visitante']\n",
        "gp_geral['Gols'] = gp_geral['Mandante Gols'] + gp_geral['Visitante Gols']\n",
        "gp_geral['GP Geral'] = round(gp_geral['Gols']/gp_geral['Partidas'],2)\n",
        "print(gp_geral)"
      ],
      "execution_count": 13,
      "outputs": [
        {
          "output_type": "stream",
          "text": [
            "     Ano  Partidas mandante  Mandante Gols  ...  Partidas  Gols  GP Geral\n",
            "0   2003                 23             32  ...        46    57      1.24\n",
            "1   2004                 23             34  ...        46    64      1.39\n",
            "2   2005                 21             42  ...        42    75      1.79\n",
            "3   2006                 19             30  ...        38    57      1.50\n",
            "4   2007                 20             43  ...        39    61      1.56\n",
            "5   2008                 18             33  ...        37    53      1.43\n",
            "6   2010                 19             33  ...        38    43      1.13\n",
            "7   2011                 19             32  ...        38    57      1.50\n",
            "8   2012                 19             28  ...        38    45      1.18\n",
            "9   2013                 19             26  ...        38    50      1.32\n",
            "10  2015                 19             13  ...        38    28      0.74\n",
            "11  2017                 19             21  ...        38    40      1.05\n",
            "12  2018                 19             29  ...        38    41      1.08\n",
            "13  2019                 19             20  ...        38    39      1.03\n",
            "\n",
            "[14 rows x 10 columns]\n"
          ],
          "name": "stdout"
        }
      ]
    },
    {
      "cell_type": "markdown",
      "metadata": {
        "id": "j6xFY3ayKnjK"
      },
      "source": [
        "**Gols marcados entre 2003-2019**"
      ]
    },
    {
      "cell_type": "markdown",
      "metadata": {
        "id": "nDJ62KH0ZyxQ"
      },
      "source": [
        "O Vasco da Gama foi rebaixado para a série B no fim de **2008, 2013 e 2015**. Nos anos subsequentes ao rebaixamento, a saber **2009, 2014 e 2016**, não há dados para exibição devido o vasco não ter jogado na série A nestes anos"
      ]
    },
    {
      "cell_type": "code",
      "metadata": {
        "id": "uHoa3PkwKtuy",
        "outputId": "e474cb82-7f10-4ec0-848c-6b87e599fd68",
        "colab": {
          "base_uri": "https://localhost:8080/",
          "height": 404
        }
      },
      "source": [
        "r =[0,1,2,3,4,5,6,7,8,9,10,11,12,13]\n",
        "#print(r)\n",
        "nomes = ('2003','2004','2005','2006','2007','2008','2010','2011','2012','2013','2015','2017','2018','2019')\n",
        "\n",
        "coluna1 = gp_geral['Gols']\n",
        "#print(gp_geral['Gols'])\n",
        "# gráfico\n",
        "barWidth = 0.9\n",
        "# Criando a barra de gols marcados\n",
        "plt.bar(r, coluna1, color='black', width=barWidth)\n",
        "\n",
        "# Eixo X\n",
        "plt.xticks(r, nomes)\n",
        "plt.xlabel(\"Anos\")\n",
        "plt.ylabel(\"Gols\")\n",
        "plt.title(\"Gols por Ano\")\n",
        "\n",
        "# Tamanho do gráfico\n",
        "plt.rcParams[\"figure.figsize\"] = [12,6]\n",
        " \n",
        "# Visualizar o gráfico\n",
        "plt.show()"
      ],
      "execution_count": 17,
      "outputs": [
        {
          "output_type": "display_data",
          "data": {
            "image/png": "[encoded data removed]",
            "text/plain": [
              "<Figure size 864x432 with 1 Axes>"
            ]
          },
          "metadata": {
            "tags": [],
            "needs_background": "light"
          }
        }
      ]
    },
    {
      "cell_type": "markdown",
      "metadata": {
        "id": "w2CK4J3MUN_J"
      },
      "source": [
        "**Gols marcados por partida **"
      ]
    },
    {
      "cell_type": "code",
      "metadata": {
        "id": "P3eOhmBSUP5G",
        "outputId": "c3f87847-ba65-4aaf-d482-c0726ac6a44d",
        "colab": {
          "base_uri": "https://localhost:8080/",
          "height": 404
        }
      },
      "source": [
        "coluna1 = gp_geral['GP Geral']\n",
        "\n",
        "# gráfico\n",
        "barWidth = 0.9\n",
        "# Criando a barra de gols marcados por partida\n",
        "plt.bar(r, coluna1, color='black', width=barWidth)\n",
        "\n",
        "# Eixo X\n",
        "plt.xticks(r, nomes)\n",
        "plt.xlabel(\"Anos\")\n",
        "plt.ylabel(\"Gols\")\n",
        "plt.title(\"Gols por Partida\")\n",
        "\n",
        "# Tamanho do gráfico\n",
        "plt.rcParams[\"figure.figsize\"] = [12,6]\n",
        " \n",
        "# Visualizar o gráfico\n",
        "plt.show()"
      ],
      "execution_count": 18,
      "outputs": [
        {
          "output_type": "display_data",
          "data": {
            "image/png": "[encoded data removed]",
            "text/plain": [
              "<Figure size 864x432 with 1 Axes>"
            ]
          },
          "metadata": {
            "tags": [],
            "needs_background": "light"
          }
        }
      ]
    },
    {
      "cell_type": "markdown",
      "metadata": {
        "id": "e3q3Lh9ccewP"
      },
      "source": [
        "**Distribuição dos gols em casa e fora de casa**"
      ]
    },
    {
      "cell_type": "code",
      "metadata": {
        "id": "GmWa-_iicm8k",
        "outputId": "2d56d0d4-b596-48aa-a256-49036528ce80",
        "colab": {
          "base_uri": "https://localhost:8080/",
          "height": 404
        }
      },
      "source": [
        "coluna1 = gp_geral['Mandante Gols']/gp_geral['Gols']\n",
        "coluna2 = gp_geral['Visitante Gols']/gp_geral['Gols']\n",
        "\n",
        "# gráfico\n",
        "barWidth = 0.9\n",
        "# Criando a barra de gols em casa\n",
        "plt.bar(r, coluna1, color='black', edgecolor='white', width=barWidth,label='Gols em Casa')\n",
        "# Criando a barra de gols fora de casa\n",
        "plt.bar(r, coluna2, bottom=coluna1, color='blue', edgecolor='white', width=barWidth,label='Gols Fora')\n",
        "\n",
        "# Eixo X\n",
        "plt.xticks(r, nomes)\n",
        "plt.xlabel(\"Anos\")\n",
        "plt.ylabel(\"Proporção\")\n",
        "plt.title(\"Distribuição de gols em casa e fora\")\n",
        " \n",
        "plt.rcParams[\"figure.figsize\"] = [12,6]\n",
        "    \n",
        "# Visualizar o gráfico\n",
        "plt.legend()\n",
        "plt.show()"
      ],
      "execution_count": 19,
      "outputs": [
        {
          "output_type": "display_data",
          "data": {
            "image/png": "[encoded data removed]",
            "text/plain": [
              "<Figure size 864x432 with 1 Axes>"
            ]
          },
          "metadata": {
            "tags": [],
            "needs_background": "light"
          }
        }
      ]
    },
    {
      "cell_type": "markdown",
      "metadata": {
        "id": "pumlkYG7c9hV"
      },
      "source": [
        "**Calculando a média de gols do Vasco da Gama por partida, média de gols em casa e média de gols fora de casa**"
      ]
    },
    {
      "cell_type": "code",
      "metadata": {
        "id": "SESMVXI-dF5j",
        "outputId": "23fde480-6143-45ca-c3b1-4d1ba82bfda3",
        "colab": {
          "base_uri": "https://localhost:8080/",
          "height": 68
        }
      },
      "source": [
        "# Gols por jogo\n",
        "gols = gp_geral['Gols'].sum()\n",
        "partidas =  gp_geral['Partidas'].sum()\n",
        "gols_partida = gols/partidas\n",
        "print(\"O Vasco da Gama tem uma média de \"+str(round(gols_partida,1))+ \" gols por partida\")\n",
        "\n",
        "# Gols por jogo em casa\n",
        "gols_casa = gp_geral['Mandante Gols'].sum()\n",
        "partidas_casa =  gp_geral['Partidas mandante'].sum()\n",
        "gols_partida_casa = gols_casa/partidas_casa\n",
        "print(\"Em casa, o Vasco da Gama tem uma média de \"+str(round(gols_partida_casa,1))+ \" gols por partida\")\n",
        "\n",
        "# Gols por jogo fora de casa\n",
        "gols_fora = gp_geral['Visitante Gols'].sum()\n",
        "partidas_fora =  gp_geral['Partidas visitante'].sum()\n",
        "gols_partida_fora = gols_fora/partidas_fora\n",
        "print(\"Fora de casa, o Vasco da Gama tem uma média de \"+str(round(gols_partida_fora,1))+ \" gols por partida\")"
      ],
      "execution_count": 20,
      "outputs": [
        {
          "output_type": "stream",
          "text": [
            "O Vasco da Gama tem uma média de 1.3 gols por partida\n",
            "Em casa, o Vasco da Gama tem uma média de 1.5 gols por partida\n",
            "Fora de casa, o Vasco da Gama tem uma média de 1.1 gols por partida\n"
          ],
          "name": "stdout"
        }
      ]
    },
    {
      "cell_type": "markdown",
      "metadata": {
        "id": "nocPkFPEdpDl"
      },
      "source": [
        "# **Resultados**"
      ]
    },
    {
      "cell_type": "markdown",
      "metadata": {
        "id": "ARSEbDZOdsf6"
      },
      "source": [
        "Vendo o desempenho do Vasco da Gama jogando em casa e fora de casa, aproveitando os dataframes Mandante e Visitante"
      ]
    },
    {
      "cell_type": "code",
      "metadata": {
        "id": "lhTjqwh5d7dn"
      },
      "source": [
        "# Contar o número de vitórias\n",
        "vitorias_casa=mandante.groupby('Ano')['Vencedor'].apply(lambda x: (x=='Vasco').sum()).reset_index(name='Vitórias')\n",
        "\n",
        "# Contar o número de empates\n",
        "empates_casa=mandante.groupby('Ano')['Vencedor'].apply(lambda x: (x=='Empate').sum()).reset_index(name='Empates')\n",
        "\n",
        "# Juntar os dataframes\n",
        "resultado_casa = jogos_mandante.merge(vitorias_casa, how='left', on='Ano')\n",
        "resultado_casa = resultado_casa.merge(empates_casa, how='left', on='Ano')\n",
        "\n",
        "# Ajeitar coluna\n",
        "resultado_casa = resultado_casa.rename(columns={\"Partidas mandante\":\"Jogos\"}) \n",
        "\n",
        "# Criar coluna de derrotas\n",
        "resultado_casa['Derrotas']= resultado_casa['Jogos'] - resultado_casa['Vitórias']-resultado_casa['Empates']"
      ],
      "execution_count": 21,
      "outputs": []
    },
    {
      "cell_type": "markdown",
      "metadata": {
        "id": "LqBCIG9NeC4j"
      },
      "source": [
        "**Desempenho dos Jogos em casa**"
      ]
    },
    {
      "cell_type": "code",
      "metadata": {
        "id": "EQHN7SM-eFLz",
        "outputId": "e76b9fe5-7cc3-4417-eebe-3f7097a15d67",
        "colab": {
          "base_uri": "https://localhost:8080/",
          "height": 404
        }
      },
      "source": [
        "coluna1 = resultado_casa['Vitórias']/resultado_casa['Jogos']\n",
        "coluna2 = resultado_casa['Empates']/resultado_casa['Jogos']\n",
        "coluna3 = resultado_casa['Derrotas']/resultado_casa['Jogos']\n",
        "\n",
        "# gráfico\n",
        "barWidth = 0.9\n",
        "# Criando a barra de vitórias\n",
        "plt.bar(r, coluna1, color='green', edgecolor='white', width=barWidth,label='Vitórias')\n",
        "# Criando a barra de empates\n",
        "plt.bar(r, coluna2, bottom=coluna1, color='gray', edgecolor='white', width=barWidth,label='Empates')\n",
        "# Criando a barra de derrotas\n",
        "plt.bar(r, coluna3, bottom=[i+j for i,j in zip(coluna1, coluna2)], color='red', edgecolor='white',\n",
        "        width=barWidth,label='Derrotas')\n",
        "\n",
        "# Eixo X\n",
        "plt.xticks(r, nomes)\n",
        "plt.xlabel(\"Anos\")\n",
        "plt.ylabel(\"Proporção\")\n",
        "plt.title(\"Dist. de resultados em casa\")\n",
        " \n",
        "# Visualizar o gráfico\n",
        "plt.legend()\n",
        "plt.show()"
      ],
      "execution_count": 22,
      "outputs": [
        {
          "output_type": "display_data",
          "data": {
            "image/png": "[encoded data removed]",
            "text/plain": [
              "<Figure size 864x432 with 1 Axes>"
            ]
          },
          "metadata": {
            "tags": [],
            "needs_background": "light"
          }
        }
      ]
    },
    {
      "cell_type": "markdown",
      "metadata": {
        "id": "8LGSxjJueogr"
      },
      "source": [
        "**Aproveitamento de pontos em casa**"
      ]
    },
    {
      "cell_type": "code",
      "metadata": {
        "id": "27vgfAo3erFj",
        "outputId": "ff8f7d2d-f3c8-45bc-ccd3-7b7323f0d273",
        "colab": {
          "base_uri": "https://localhost:8080/",
          "height": 272
        }
      },
      "source": [
        "resultado_casa['% Aprov.']= round((3*resultado_casa['Vitórias']+resultado_casa['Empates'])/(3*resultado_casa['Jogos']),2)\n",
        "print(resultado_casa)"
      ],
      "execution_count": 23,
      "outputs": [
        {
          "output_type": "stream",
          "text": [
            "     Ano  Jogos  Vitórias  Empates  Derrotas  % Aprov.\n",
            "0   2003     23        11        7         5      0.58\n",
            "1   2004     23         9        6         8      0.48\n",
            "2   2005     21        11        6         4      0.62\n",
            "3   2006     19         8        9         2      0.58\n",
            "4   2007     20        12        3         5      0.65\n",
            "5   2008     18         6        4         8      0.41\n",
            "6   2010     19         9        9         1      0.63\n",
            "7   2011     19        11        7         1      0.70\n",
            "8   2012     19         9        4         6      0.54\n",
            "9   2013     19         8        5         6      0.51\n",
            "10  2015     19         5        6         8      0.37\n",
            "11  2017     19         8        7         4      0.54\n",
            "12  2018     19         9        5         5      0.56\n",
            "13  2019     19         7        6         6      0.47\n"
          ],
          "name": "stdout"
        }
      ]
    },
    {
      "cell_type": "code",
      "metadata": {
        "id": "ZcraZCLEfu1S",
        "outputId": "4e20d0d3-6fb0-4196-db60-11d5ef89d7b6",
        "colab": {
          "base_uri": "https://localhost:8080/",
          "height": 404
        }
      },
      "source": [
        "coluna1 = resultado_casa['% Aprov.']\n",
        "\n",
        "# gráfico\n",
        "barWidth = 0.9\n",
        "# Criando a barra de aproveitamento\n",
        "plt.bar(r, coluna1, color='black', width=barWidth)\n",
        "\n",
        "# Eixo X\n",
        "plt.xticks(r, nomes)\n",
        "plt.xlabel(\"Anos\")\n",
        "plt.ylabel(\"Aproveitamento\")\n",
        "plt.title(\"Aproveitamento em casa\")\n",
        "\n",
        "plt.rcParams[\"figure.figsize\"] = [12,6]\n",
        " \n",
        "# Visualizar o gráfico\n",
        "plt.show()"
      ],
      "execution_count": 24,
      "outputs": [
        {
          "output_type": "display_data",
          "data": {
            "image/png": "[encoded data removed]",
            "text/plain": [
              "<Figure size 864x432 with 1 Axes>"
            ]
          },
          "metadata": {
            "tags": [],
            "needs_background": "light"
          }
        }
      ]
    },
    {
      "cell_type": "code",
      "metadata": {
        "id": "HVkmw8wUgGtS"
      },
      "source": [
        "# Contar o número de vitórias\n",
        "vitorias_fora=visitante.groupby('Ano')['Vencedor'].apply(lambda x: (x=='Vasco').sum()).reset_index(name='Vitórias')\n",
        "\n",
        "# Contar o número de empates\n",
        "empates_fora=visitante.groupby('Ano')['Vencedor'].apply(lambda x: (x=='Empate').sum()).reset_index(name='Empates')\n",
        "\n",
        "# Juntar os dataframes\n",
        "resultado_fora = jogos_visitante.merge(vitorias_fora, how='left', on='Ano')\n",
        "resultado_fora = resultado_fora.merge(empates_fora, how='left', on='Ano') \n",
        "\n",
        "# Ajeitar coluna\n",
        "resultado_fora = resultado_fora.rename(columns={\"Partidas visitante\":\"Jogos\"})\n",
        "\n",
        "# Criar coluna de derrotas\n",
        "resultado_fora['Derrotas']= resultado_fora['Jogos'] - resultado_fora['Vitórias']-resultado_fora['Empates']"
      ],
      "execution_count": 25,
      "outputs": []
    },
    {
      "cell_type": "markdown",
      "metadata": {
        "id": "FH-mygVYf2qS"
      },
      "source": [
        "**Desempenho dos Jogos Fora de casa**"
      ]
    },
    {
      "cell_type": "code",
      "metadata": {
        "id": "29mvim6Kf9Xd",
        "outputId": "9d819685-6d89-4335-ed70-52188861472c",
        "colab": {
          "base_uri": "https://localhost:8080/",
          "height": 404
        }
      },
      "source": [
        "coluna1 = resultado_fora['Vitórias']/resultado_fora['Jogos']\n",
        "coluna2 = resultado_fora['Empates']/resultado_fora['Jogos']\n",
        "coluna3 = resultado_fora['Derrotas']/resultado_fora['Jogos']\n",
        "\n",
        "# gráfico\n",
        "barWidth = 0.9\n",
        "# Criando a barra de vitórias\n",
        "plt.bar(r, coluna1, color='green', edgecolor='white', width=barWidth,label='Vitórias')\n",
        "# Criando a barra de empates\n",
        "plt.bar(r, coluna2, bottom=coluna1, color='gray', edgecolor='white', width=barWidth,label='Empates')\n",
        "# Criando a barra de derrotas\n",
        "plt.bar(r, coluna3, bottom=[i+j for i,j in zip(coluna1, coluna2)], color='red', edgecolor='white',\n",
        "        width=barWidth,label='Derrotas')\n",
        "\n",
        "# Eixo X\n",
        "plt.xticks(r, nomes)\n",
        "plt.xlabel(\"Anos\")\n",
        "plt.ylabel(\"Proporção\")\n",
        "plt.title(\"Dist. de resultados fora de casa\")\n",
        " \n",
        "# Visualizar o gráfico\n",
        "plt.legend()\n",
        "plt.show()"
      ],
      "execution_count": 26,
      "outputs": [
        {
          "output_type": "display_data",
          "data": {
            "image/png": "[encoded data removed]",
            "text/plain": [
              "<Figure size 864x432 with 1 Axes>"
            ]
          },
          "metadata": {
            "tags": [],
            "needs_background": "light"
          }
        }
      ]
    },
    {
      "cell_type": "markdown",
      "metadata": {
        "id": "Dp2qGLVvgUgD"
      },
      "source": [
        "**Aproveitamento de pontos fora de casa**"
      ]
    },
    {
      "cell_type": "code",
      "metadata": {
        "id": "a60Ao9bBgXGp",
        "outputId": "3ece7506-5f79-426e-beea-ce7fa095a8a8",
        "colab": {
          "base_uri": "https://localhost:8080/",
          "height": 404
        }
      },
      "source": [
        "resultado_fora['% Aprov.']= round((3*resultado_fora['Vitórias']+resultado_fora['Empates'])/(3*resultado_fora['Jogos']),2)\n",
        "\n",
        "coluna1 = resultado_fora['% Aprov.']\n",
        "\n",
        "# gráfico\n",
        "barWidth = 0.9\n",
        "# Criando a barra de aproveitamento\n",
        "plt.bar(r, coluna1, color='black', width=barWidth)\n",
        "\n",
        "# Eixo X\n",
        "plt.xticks(r, nomes)\n",
        "plt.xlabel(\"Anos\")\n",
        "plt.ylabel(\"Aproveitamento\")\n",
        "plt.title(\"Aproveitamento fora de casa\")\n",
        "\n",
        "plt.rcParams[\"figure.figsize\"] = [12,6]\n",
        " \n",
        "# Visualizar o gráfico\n",
        "plt.show()"
      ],
      "execution_count": 27,
      "outputs": [
        {
          "output_type": "display_data",
          "data": {
            "image/png": "[encoded data removed]",
            "text/plain": [
              "<Figure size 864x432 with 1 Axes>"
            ]
          },
          "metadata": {
            "tags": [],
            "needs_background": "light"
          }
        }
      ]
    },
    {
      "cell_type": "markdown",
      "metadata": {
        "id": "iwP1zDwPgcda"
      },
      "source": [
        "**Aproveitamento total do Vasco da Gama em cada ano**"
      ]
    },
    {
      "cell_type": "code",
      "metadata": {
        "id": "6S-CdGKAhT5c"
      },
      "source": [
        "# Deletar colunas de aproveitamento\n",
        "resultado_casa = resultado_casa.drop(['% Aprov.'], axis = 1)\n",
        "resultado_fora = resultado_fora.drop(['% Aprov.'], axis = 1)\n",
        "\n",
        "# Deletar coluna repetida\n",
        "resultado_casa = resultado_casa.drop(['Jogos'], axis = 1)\n",
        "resultado_fora = resultado_fora.drop(['Jogos'], axis = 1)\n",
        "\n",
        "# Renomear colunas\n",
        "resultado_casa = resultado_casa.rename(columns={\"Vitórias\":\"Vit casa\",\"Empates\":\"Emp casa\",\"Derrotas\":\"Der casa\"})\n",
        "resultado_fora = resultado_fora.rename(columns={\"Vitórias\":\"Vit fora\",\"Empates\":\"Emp fora\",\"Derrotas\":\"Der fora\"})\n",
        "\n",
        "# Juntar dataframes\n",
        "resultado = jogos.merge(resultado_casa, how='left', on='Ano')\n",
        "resultado = resultado.merge(resultado_fora, how='left', on='Ano')\n",
        "\n",
        "# Coluna de Pontos\n",
        "resultado['Pts'] = 3*(resultado['Vit casa']+resultado['Vit fora'])+resultado['Emp casa']+resultado['Emp fora']\n",
        "\n",
        "# Coluna com a proporção de pontos conquistados em casa\n",
        "resultado['% Pts casa']= round((3*resultado['Vit casa']+resultado['Emp casa'])/resultado['Pts'],2)\n",
        "\n",
        "# Coluna com a proporção de pontos conquistados fora de casa\n",
        "resultado['% Pts fora']= round((3*resultado['Vit fora']+resultado['Emp fora'])/resultado['Pts'],2)\n",
        "\n",
        "resultado['Vit'] = resultado['Vit casa'] + resultado['Vit fora']\n",
        "resultado['Der'] = resultado['Der casa'] + resultado['Der fora']\n",
        "resultado['Emp'] = resultado['Emp casa'] + resultado['Emp fora']"
      ],
      "execution_count": 28,
      "outputs": []
    },
    {
      "cell_type": "code",
      "metadata": {
        "id": "HUSA2y1ciFKz",
        "outputId": "19e32c5d-5ba9-4aa0-cada-9d40516c9bc2",
        "colab": {
          "base_uri": "https://localhost:8080/",
          "height": 404
        }
      },
      "source": [
        "coluna1 = resultado['Vit']/resultado['Jogos']\n",
        "coluna2 = resultado['Emp']/resultado['Jogos']\n",
        "coluna3 = resultado['Der']/resultado['Jogos']\n",
        "\n",
        "# gráfico\n",
        "barWidth = 0.9\n",
        "# Criando a barra de vitórias\n",
        "plt.bar(r, coluna1, color='green', edgecolor='white', width=barWidth,label='Vitórias')\n",
        "# Criando a barra de empates\n",
        "plt.bar(r, coluna2, bottom=coluna1, color='gray', edgecolor='white', width=barWidth,label='Empates')\n",
        "# Criando a barra de derrotas\n",
        "plt.bar(r, coluna3, bottom=[i+j for i,j in zip(coluna1, coluna2)], color='red', edgecolor='white',\n",
        "        width=barWidth,label='Derrotas')\n",
        "\n",
        "# Eixo X\n",
        "plt.xticks(r, nomes)\n",
        "plt.xlabel(\"Anos\")\n",
        "plt.ylabel(\"Proporção\")\n",
        "plt.title(\"Dist. de resultados\")\n",
        " \n",
        "# Visualizar o gráfico\n",
        "plt.legend()\n",
        "plt.show()"
      ],
      "execution_count": 29,
      "outputs": [
        {
          "output_type": "display_data",
          "data": {
            "image/png": "[encoded data removed]",
            "text/plain": [
              "<Figure size 864x432 with 1 Axes>"
            ]
          },
          "metadata": {
            "tags": [],
            "needs_background": "light"
          }
        }
      ]
    },
    {
      "cell_type": "markdown",
      "metadata": {
        "id": "qvsiF2t7iThL"
      },
      "source": [
        "**Aproveitamentos dos Pontos**"
      ]
    },
    {
      "cell_type": "code",
      "metadata": {
        "id": "DL9P4s-ViVph",
        "outputId": "3eab48d2-4b71-4fb3-f06f-638b70e3774a",
        "colab": {
          "base_uri": "https://localhost:8080/",
          "height": 404
        }
      },
      "source": [
        "resultado['% Aprov.']= round((3*resultado['Vit']+resultado['Emp'])/(3*resultado['Jogos']),2)\n",
        "\n",
        "coluna1 = resultado['% Aprov.']\n",
        "\n",
        "# gráfico\n",
        "barWidth = 0.9\n",
        "# Criando a barra de aproveitamento\n",
        "plt.bar(r, coluna1, color='black', width=barWidth)\n",
        "\n",
        "# Eixo X\n",
        "plt.xticks(r, nomes)\n",
        "plt.xlabel(\"Anos\")\n",
        "plt.ylabel(\"Aproveitamento\")\n",
        "plt.title(\"Aproveitamento de pontos\")\n",
        "\n",
        "plt.rcParams[\"figure.figsize\"] = [12,6]\n",
        " \n",
        "# Visualizar o gráfico\n",
        "plt.show()"
      ],
      "execution_count": 30,
      "outputs": [
        {
          "output_type": "display_data",
          "data": {
            "image/png": "[encoded data removed]",
            "text/plain": [
              "<Figure size 864x432 with 1 Axes>"
            ]
          },
          "metadata": {
            "tags": [],
            "needs_background": "light"
          }
        }
      ]
    },
    {
      "cell_type": "markdown",
      "metadata": {
        "id": "iQV7AmM0iZeR"
      },
      "source": [
        "**Grafico de exibição dos pontos conquistados em cada ano**"
      ]
    },
    {
      "cell_type": "code",
      "metadata": {
        "id": "c1ObUtuSidfZ",
        "outputId": "ab948d0b-af1e-4ddf-f7bd-83cb1b7467e2",
        "colab": {
          "base_uri": "https://localhost:8080/",
          "height": 404
        }
      },
      "source": [
        "coluna1 = resultado['Pts']\n",
        "\n",
        "# gráfico\n",
        "barWidth = 0.9\n",
        "# Criando a barra de pontos conquistados\n",
        "plt.bar(r, coluna1, color='black', width=barWidth)\n",
        "\n",
        "# Eixo X\n",
        "plt.xticks(r, nomes)\n",
        "plt.xlabel(\"Anos\")\n",
        "plt.ylabel(\"Pontos\")\n",
        "plt.title(\"Pontos Conquistados\")\n",
        "\n",
        "plt.rcParams[\"figure.figsize\"] = [12,6]\n",
        " \n",
        "# Visualizar o gráfico\n",
        "plt.show()"
      ],
      "execution_count": 31,
      "outputs": [
        {
          "output_type": "display_data",
          "data": {
            "image/png": "[encoded data removed]",
            "text/plain": [
              "<Figure size 864x432 with 1 Axes>"
            ]
          },
          "metadata": {
            "tags": [],
            "needs_background": "light"
          }
        }
      ]
    },
    {
      "cell_type": "code",
      "metadata": {
        "id": "nPY7Ax0sjM3T",
        "outputId": "6df617ba-7cde-4484-d38d-5ee71fe16db9",
        "colab": {
          "base_uri": "https://localhost:8080/",
          "height": 404
        }
      },
      "source": [
        "coluna1 = resultado['% Pts casa']\n",
        "coluna2 = resultado['% Pts fora']\n",
        "\n",
        "# gráfico\n",
        "barWidth = 0.9\n",
        "# Criando a barra de pontos conquistados em casa\n",
        "plt.bar(r, coluna1, color='blue', edgecolor='white', width=barWidth,label='% Pts Casa')\n",
        "# Criando a barra de pontos conquistados fora de casa\n",
        "plt.bar(r, coluna2, bottom=coluna1, color='black', edgecolor='white', width=barWidth,label='% Pts Fora')\n",
        "\n",
        "# Eixo X\n",
        "plt.xticks(r, nomes)\n",
        "plt.xlabel(\"Anos\")\n",
        "plt.ylabel(\"Proporção\")\n",
        "plt.title(\"Dist. de pontos conquistados em casa e fora\")\n",
        " \n",
        "plt.rcParams[\"figure.figsize\"] = [12,6]\n",
        "    \n",
        "# Visualizar o gráfico\n",
        "plt.legend()\n",
        "plt.show()"
      ],
      "execution_count": 32,
      "outputs": [
        {
          "output_type": "display_data",
          "data": {
            "image/png": "[encoded data removed]",
            "text/plain": [
              "<Figure size 864x432 with 1 Axes>"
            ]
          },
          "metadata": {
            "tags": [],
            "needs_background": "light"
          }
        }
      ]
    },
    {
      "cell_type": "markdown",
      "metadata": {
        "id": "vO3E3d8zjYyU"
      },
      "source": [
        "# Adversários"
      ]
    },
    {
      "cell_type": "markdown",
      "metadata": {
        "id": "uRgeSh2mjeRA"
      },
      "source": [
        "**Times que mais venceram o Vasco da Gama**"
      ]
    },
    {
      "cell_type": "code",
      "metadata": {
        "id": "VWGa1YO-jioh",
        "outputId": "7e772cfd-f44a-40ec-9a16-cd985b697388",
        "colab": {
          "base_uri": "https://localhost:8080/",
          "height": 561
        }
      },
      "source": [
        "\n",
        "# Somar as vitórias por adversário\n",
        "adversarios_vit = df.groupby('Vencedor')['Vencedor'].count()\n",
        "adversarios_vit = pd.DataFrame(adversarios_vit)\n",
        "adversarios_vit.columns = ['Vitórias']\n",
        "adversarios_vit.reset_index(level=0, inplace=True)\n",
        "\n",
        "# Eliminar as linhas com as vitórias do Vasco e Empates\n",
        "adversarios_vit = adversarios_vit.drop(adversarios_vit[(adversarios_vit['Vencedor'] == 'Vasco')].index)\n",
        "adversarios_vit = adversarios_vit.drop(adversarios_vit[(adversarios_vit['Vencedor'] == 'Empate')].index)\n",
        "\n",
        "# Ordenar o Dataframe em ordem decrescente\n",
        "adversarios_vit.sort_values(by=['Vitórias'], inplace=True, ascending=False)\n",
        "\n",
        "# Criar gráfico\n",
        "ax = adversarios_vit.plot.barh(x='Vencedores', y='Vitórias',color ='blue',figsize=(10,10))\n"
      ],
      "execution_count": 35,
      "outputs": [
        {
          "output_type": "error",
          "ename": "KeyError",
          "evalue": "ignored",
          "traceback": [
            "\u001b[0;31m---------------------------------------------------------------------------\u001b[0m",
            "\u001b[0;31mKeyError\u001b[0m                                  Traceback (most recent call last)",
            "\u001b[0;32m/usr/local/lib/python3.6/dist-packages/pandas/core/indexes/base.py\u001b[0m in \u001b[0;36mget_loc\u001b[0;34m(self, key, method, tolerance)\u001b[0m\n\u001b[1;32m   2890\u001b[0m             \u001b[0;32mtry\u001b[0m\u001b[0;34m:\u001b[0m\u001b[0;34m\u001b[0m\u001b[0;34m\u001b[0m\u001b[0m\n\u001b[0;32m-> 2891\u001b[0;31m                 \u001b[0;32mreturn\u001b[0m \u001b[0mself\u001b[0m\u001b[0;34m.\u001b[0m\u001b[0m_engine\u001b[0m\u001b[0;34m.\u001b[0m\u001b[0mget_loc\u001b[0m\u001b[0;34m(\u001b[0m\u001b[0mcasted_key\u001b[0m\u001b[0;34m)\u001b[0m\u001b[0;34m\u001b[0m\u001b[0;34m\u001b[0m\u001b[0m\n\u001b[0m\u001b[1;32m   2892\u001b[0m             \u001b[0;32mexcept\u001b[0m \u001b[0mKeyError\u001b[0m \u001b[0;32mas\u001b[0m \u001b[0merr\u001b[0m\u001b[0;34m:\u001b[0m\u001b[0;34m\u001b[0m\u001b[0;34m\u001b[0m\u001b[0m\n",
            "\u001b[0;32mpandas/_libs/index.pyx\u001b[0m in \u001b[0;36mpandas._libs.index.IndexEngine.get_loc\u001b[0;34m()\u001b[0m\n",
            "\u001b[0;32mpandas/_libs/index.pyx\u001b[0m in \u001b[0;36mpandas._libs.index.IndexEngine.get_loc\u001b[0;34m()\u001b[0m\n",
            "\u001b[0;32mpandas/_libs/hashtable_class_helper.pxi\u001b[0m in \u001b[0;36mpandas._libs.hashtable.PyObjectHashTable.get_item\u001b[0;34m()\u001b[0m\n",
            "\u001b[0;32mpandas/_libs/hashtable_class_helper.pxi\u001b[0m in \u001b[0;36mpandas._libs.hashtable.PyObjectHashTable.get_item\u001b[0;34m()\u001b[0m\n",
            "\u001b[0;31mKeyError\u001b[0m: 'Vencedores'",
            "\nThe above exception was the direct cause of the following exception:\n",
            "\u001b[0;31mKeyError\u001b[0m                                  Traceback (most recent call last)",
            "\u001b[0;32m<ipython-input-35-fae5d884ffd6>\u001b[0m in \u001b[0;36m<module>\u001b[0;34m()\u001b[0m\n\u001b[1;32m     14\u001b[0m \u001b[0;34m\u001b[0m\u001b[0m\n\u001b[1;32m     15\u001b[0m \u001b[0;31m# Criar gráfico\u001b[0m\u001b[0;34m\u001b[0m\u001b[0;34m\u001b[0m\u001b[0;34m\u001b[0m\u001b[0m\n\u001b[0;32m---> 16\u001b[0;31m \u001b[0max\u001b[0m \u001b[0;34m=\u001b[0m \u001b[0madversarios_vit\u001b[0m\u001b[0;34m.\u001b[0m\u001b[0mplot\u001b[0m\u001b[0;34m.\u001b[0m\u001b[0mbarh\u001b[0m\u001b[0;34m(\u001b[0m\u001b[0mx\u001b[0m\u001b[0;34m=\u001b[0m\u001b[0;34m'Vencedores'\u001b[0m\u001b[0;34m,\u001b[0m \u001b[0my\u001b[0m\u001b[0;34m=\u001b[0m\u001b[0;34m'Vitórias'\u001b[0m\u001b[0;34m,\u001b[0m\u001b[0mcolor\u001b[0m \u001b[0;34m=\u001b[0m\u001b[0;34m'blue'\u001b[0m\u001b[0;34m,\u001b[0m\u001b[0mfigsize\u001b[0m\u001b[0;34m=\u001b[0m\u001b[0;34m(\u001b[0m\u001b[0;36m10\u001b[0m\u001b[0;34m,\u001b[0m\u001b[0;36m10\u001b[0m\u001b[0;34m)\u001b[0m\u001b[0;34m)\u001b[0m\u001b[0;34m\u001b[0m\u001b[0;34m\u001b[0m\u001b[0m\n\u001b[0m",
            "\u001b[0;32m/usr/local/lib/python3.6/dist-packages/pandas/plotting/_core.py\u001b[0m in \u001b[0;36mbarh\u001b[0;34m(self, x, y, **kwargs)\u001b[0m\n\u001b[1;32m   1191\u001b[0m         \u001b[0mother\u001b[0m \u001b[0maxis\u001b[0m \u001b[0mrepresents\u001b[0m \u001b[0ma\u001b[0m \u001b[0mmeasured\u001b[0m \u001b[0mvalue\u001b[0m\u001b[0;34m.\u001b[0m\u001b[0;34m\u001b[0m\u001b[0;34m\u001b[0m\u001b[0m\n\u001b[1;32m   1192\u001b[0m         \"\"\"\n\u001b[0;32m-> 1193\u001b[0;31m         \u001b[0;32mreturn\u001b[0m \u001b[0mself\u001b[0m\u001b[0;34m(\u001b[0m\u001b[0mkind\u001b[0m\u001b[0;34m=\u001b[0m\u001b[0;34m\"barh\"\u001b[0m\u001b[0;34m,\u001b[0m \u001b[0mx\u001b[0m\u001b[0;34m=\u001b[0m\u001b[0mx\u001b[0m\u001b[0;34m,\u001b[0m \u001b[0my\u001b[0m\u001b[0;34m=\u001b[0m\u001b[0my\u001b[0m\u001b[0;34m,\u001b[0m \u001b[0;34m**\u001b[0m\u001b[0mkwargs\u001b[0m\u001b[0;34m)\u001b[0m\u001b[0;34m\u001b[0m\u001b[0;34m\u001b[0m\u001b[0m\n\u001b[0m\u001b[1;32m   1194\u001b[0m \u001b[0;34m\u001b[0m\u001b[0m\n\u001b[1;32m   1195\u001b[0m     \u001b[0;32mdef\u001b[0m \u001b[0mbox\u001b[0m\u001b[0;34m(\u001b[0m\u001b[0mself\u001b[0m\u001b[0;34m,\u001b[0m \u001b[0mby\u001b[0m\u001b[0;34m=\u001b[0m\u001b[0;32mNone\u001b[0m\u001b[0;34m,\u001b[0m \u001b[0;34m**\u001b[0m\u001b[0mkwargs\u001b[0m\u001b[0;34m)\u001b[0m\u001b[0;34m:\u001b[0m\u001b[0;34m\u001b[0m\u001b[0;34m\u001b[0m\u001b[0m\n",
            "\u001b[0;32m/usr/local/lib/python3.6/dist-packages/pandas/plotting/_core.py\u001b[0m in \u001b[0;36m__call__\u001b[0;34m(self, *args, **kwargs)\u001b[0m\n\u001b[1;32m    912\u001b[0m                 \u001b[0;32mif\u001b[0m \u001b[0mis_integer\u001b[0m\u001b[0;34m(\u001b[0m\u001b[0mx\u001b[0m\u001b[0;34m)\u001b[0m \u001b[0;32mand\u001b[0m \u001b[0;32mnot\u001b[0m \u001b[0mdata\u001b[0m\u001b[0;34m.\u001b[0m\u001b[0mcolumns\u001b[0m\u001b[0;34m.\u001b[0m\u001b[0mholds_integer\u001b[0m\u001b[0;34m(\u001b[0m\u001b[0;34m)\u001b[0m\u001b[0;34m:\u001b[0m\u001b[0;34m\u001b[0m\u001b[0;34m\u001b[0m\u001b[0m\n\u001b[1;32m    913\u001b[0m                     \u001b[0mx\u001b[0m \u001b[0;34m=\u001b[0m \u001b[0mdata_cols\u001b[0m\u001b[0;34m[\u001b[0m\u001b[0mx\u001b[0m\u001b[0;34m]\u001b[0m\u001b[0;34m\u001b[0m\u001b[0;34m\u001b[0m\u001b[0m\n\u001b[0;32m--> 914\u001b[0;31m                 \u001b[0;32melif\u001b[0m \u001b[0;32mnot\u001b[0m \u001b[0misinstance\u001b[0m\u001b[0;34m(\u001b[0m\u001b[0mdata\u001b[0m\u001b[0;34m[\u001b[0m\u001b[0mx\u001b[0m\u001b[0;34m]\u001b[0m\u001b[0;34m,\u001b[0m \u001b[0mABCSeries\u001b[0m\u001b[0;34m)\u001b[0m\u001b[0;34m:\u001b[0m\u001b[0;34m\u001b[0m\u001b[0;34m\u001b[0m\u001b[0m\n\u001b[0m\u001b[1;32m    915\u001b[0m                     \u001b[0;32mraise\u001b[0m \u001b[0mValueError\u001b[0m\u001b[0;34m(\u001b[0m\u001b[0;34m\"x must be a label or position\"\u001b[0m\u001b[0;34m)\u001b[0m\u001b[0;34m\u001b[0m\u001b[0;34m\u001b[0m\u001b[0m\n\u001b[1;32m    916\u001b[0m                 \u001b[0mdata\u001b[0m \u001b[0;34m=\u001b[0m \u001b[0mdata\u001b[0m\u001b[0;34m.\u001b[0m\u001b[0mset_index\u001b[0m\u001b[0;34m(\u001b[0m\u001b[0mx\u001b[0m\u001b[0;34m)\u001b[0m\u001b[0;34m\u001b[0m\u001b[0;34m\u001b[0m\u001b[0m\n",
            "\u001b[0;32m/usr/local/lib/python3.6/dist-packages/pandas/core/frame.py\u001b[0m in \u001b[0;36m__getitem__\u001b[0;34m(self, key)\u001b[0m\n\u001b[1;32m   2900\u001b[0m             \u001b[0;32mif\u001b[0m \u001b[0mself\u001b[0m\u001b[0;34m.\u001b[0m\u001b[0mcolumns\u001b[0m\u001b[0;34m.\u001b[0m\u001b[0mnlevels\u001b[0m \u001b[0;34m>\u001b[0m \u001b[0;36m1\u001b[0m\u001b[0;34m:\u001b[0m\u001b[0;34m\u001b[0m\u001b[0;34m\u001b[0m\u001b[0m\n\u001b[1;32m   2901\u001b[0m                 \u001b[0;32mreturn\u001b[0m \u001b[0mself\u001b[0m\u001b[0;34m.\u001b[0m\u001b[0m_getitem_multilevel\u001b[0m\u001b[0;34m(\u001b[0m\u001b[0mkey\u001b[0m\u001b[0;34m)\u001b[0m\u001b[0;34m\u001b[0m\u001b[0;34m\u001b[0m\u001b[0m\n\u001b[0;32m-> 2902\u001b[0;31m             \u001b[0mindexer\u001b[0m \u001b[0;34m=\u001b[0m \u001b[0mself\u001b[0m\u001b[0;34m.\u001b[0m\u001b[0mcolumns\u001b[0m\u001b[0;34m.\u001b[0m\u001b[0mget_loc\u001b[0m\u001b[0;34m(\u001b[0m\u001b[0mkey\u001b[0m\u001b[0;34m)\u001b[0m\u001b[0;34m\u001b[0m\u001b[0;34m\u001b[0m\u001b[0m\n\u001b[0m\u001b[1;32m   2903\u001b[0m             \u001b[0;32mif\u001b[0m \u001b[0mis_integer\u001b[0m\u001b[0;34m(\u001b[0m\u001b[0mindexer\u001b[0m\u001b[0;34m)\u001b[0m\u001b[0;34m:\u001b[0m\u001b[0;34m\u001b[0m\u001b[0;34m\u001b[0m\u001b[0m\n\u001b[1;32m   2904\u001b[0m                 \u001b[0mindexer\u001b[0m \u001b[0;34m=\u001b[0m \u001b[0;34m[\u001b[0m\u001b[0mindexer\u001b[0m\u001b[0;34m]\u001b[0m\u001b[0;34m\u001b[0m\u001b[0;34m\u001b[0m\u001b[0m\n",
            "\u001b[0;32m/usr/local/lib/python3.6/dist-packages/pandas/core/indexes/base.py\u001b[0m in \u001b[0;36mget_loc\u001b[0;34m(self, key, method, tolerance)\u001b[0m\n\u001b[1;32m   2891\u001b[0m                 \u001b[0;32mreturn\u001b[0m \u001b[0mself\u001b[0m\u001b[0;34m.\u001b[0m\u001b[0m_engine\u001b[0m\u001b[0;34m.\u001b[0m\u001b[0mget_loc\u001b[0m\u001b[0;34m(\u001b[0m\u001b[0mcasted_key\u001b[0m\u001b[0;34m)\u001b[0m\u001b[0;34m\u001b[0m\u001b[0;34m\u001b[0m\u001b[0m\n\u001b[1;32m   2892\u001b[0m             \u001b[0;32mexcept\u001b[0m \u001b[0mKeyError\u001b[0m \u001b[0;32mas\u001b[0m \u001b[0merr\u001b[0m\u001b[0;34m:\u001b[0m\u001b[0;34m\u001b[0m\u001b[0;34m\u001b[0m\u001b[0m\n\u001b[0;32m-> 2893\u001b[0;31m                 \u001b[0;32mraise\u001b[0m \u001b[0mKeyError\u001b[0m\u001b[0;34m(\u001b[0m\u001b[0mkey\u001b[0m\u001b[0;34m)\u001b[0m \u001b[0;32mfrom\u001b[0m \u001b[0merr\u001b[0m\u001b[0;34m\u001b[0m\u001b[0;34m\u001b[0m\u001b[0m\n\u001b[0m\u001b[1;32m   2894\u001b[0m \u001b[0;34m\u001b[0m\u001b[0m\n\u001b[1;32m   2895\u001b[0m         \u001b[0;32mif\u001b[0m \u001b[0mtolerance\u001b[0m \u001b[0;32mis\u001b[0m \u001b[0;32mnot\u001b[0m \u001b[0;32mNone\u001b[0m\u001b[0;34m:\u001b[0m\u001b[0;34m\u001b[0m\u001b[0;34m\u001b[0m\u001b[0m\n",
            "\u001b[0;31mKeyError\u001b[0m: 'Vencedores'"
          ]
        }
      ]
    },
    {
      "cell_type": "markdown",
      "metadata": {
        "id": "OcfsriK3kB6Z"
      },
      "source": [
        "**Times que mais fizeram gols no Vasco da Gama**"
      ]
    },
    {
      "cell_type": "code",
      "metadata": {
        "id": "ibxPCicukFfM",
        "outputId": "b37d7341-79bf-4c59-80b4-08b188739905",
        "colab": {
          "base_uri": "https://localhost:8080/",
          "height": 592
        }
      },
      "source": [
        "# Pelo dataframe 'Mandante'\n",
        "gols_adversarios_casa = mandante.groupby('Visitante')['Visitante Gols'].sum()\n",
        "gols_adversarios_casa = pd.DataFrame(gols_adversarios_casa)\n",
        "gols_adversarios_casa.columns = ['Gols Casa']\n",
        "gols_adversarios_casa.reset_index(level=0, inplace=True)\n",
        "gols_adversarios_casa.columns = ['Time','Gols Casa']\n",
        "\n",
        "# Pelo dataframe 'Visitante'\n",
        "gols_adversarios_fora = visitante.groupby('Mandante')['Mandante Gols'].sum()\n",
        "gols_adversarios_fora = pd.DataFrame(gols_adversarios_fora)\n",
        "gols_adversarios_fora.columns = ['Gols Fora']\n",
        "gols_adversarios_fora.reset_index(level=0, inplace=True)\n",
        "gols_adversarios_fora.columns = ['Time','Gols Fora']\n",
        "\n",
        "# Juntando os dataframes\n",
        "gols_adversarios = gols_adversarios_casa.merge(gols_adversarios_fora, how='left', on='Time')\n",
        "\n",
        "# Criar coluna total com os gols marcados por adversarios\n",
        "gols_adversarios['Gols'] = gols_adversarios['Gols Casa'] + gols_adversarios['Gols Fora']\n",
        "\n",
        "# Ordenar o dataframe\n",
        "gols_adversarios.sort_values(by=['Gols'], inplace=True, ascending=False)\n",
        "\n",
        "# Criar gráfico\n",
        "ax = gols_adversarios.plot.barh(x='Time', y='Gols',color ='blue',figsize=(10,10))"
      ],
      "execution_count": 36,
      "outputs": [
        {
          "output_type": "display_data",
          "data": {
            "image/png": "[encoded data removed]",
            "text/plain": [
              "<Figure size 720x720 with 1 Axes>"
            ]
          },
          "metadata": {
            "tags": [],
            "needs_background": "light"
          }
        }
      ]
    },
    {
      "cell_type": "markdown",
      "metadata": {
        "id": "HdqK1uwRkZb5"
      },
      "source": [
        "**Times que mais perderam para o Vasco da Gama**"
      ]
    },
    {
      "cell_type": "code",
      "metadata": {
        "id": "9Fj8okB_kcev",
        "outputId": "8511bc50-2505-4731-dd42-9b8cce1a3b8d",
        "colab": {
          "base_uri": "https://localhost:8080/",
          "height": 592
        }
      },
      "source": [
        "# Criar um dataframe com a coluna de perdedores\n",
        "perdedores = df.copy()\n",
        "\n",
        "# Criar a coluna de perdedores\n",
        "condicoes = [(perdedores['Mandante'] == perdedores['Vencedor']),(perdedores['Visitante'] == perdedores['Vencedor'])]\n",
        "valores = [perdedores['Visitante'], perdedores['Mandante']]\n",
        "perdedores['Perdedor'] = np.select(condicoes, valores, default='Empate')\n",
        "\n",
        "# Contar o número de vitórias do Vasco sobre cada adversário\n",
        "vasco_vit = perdedores.groupby('Perdedor')['Perdedor'].count()\n",
        "vasco_vit = pd.DataFrame(vasco_vit)\n",
        "vasco_vit.columns = ['Vitórias']\n",
        "vasco_vit.reset_index(level=0, inplace=True)\n",
        "\n",
        "# Eliminar as linhas com as vitórias do Vasco e Empates\n",
        "vasco_vit = vasco_vit.drop(vasco_vit[(vasco_vit['Perdedor'] == 'Vasco')].index)\n",
        "vasco_vit = vasco_vit.drop(vasco_vit[(vasco_vit['Perdedor'] == 'Empate')].index)\n",
        "\n",
        "# Ordenar o Dataframe em ordem decrescente\n",
        "vasco_vit.sort_values(by=['Vitórias'], inplace=True, ascending=False)\n",
        "\n",
        "# Criar gráfico\n",
        "ax = vasco_vit.plot.barh(x='Perdedor', y='Vitórias',color ='blue',figsize=(10,10))"
      ],
      "execution_count": 37,
      "outputs": [
        {
          "output_type": "display_data",
          "data": {
            "image/png": "[encoded data removed]",
            "text/plain": [
              "<Figure size 720x720 with 1 Axes>"
            ]
          },
          "metadata": {
            "tags": [],
            "needs_background": "light"
          }
        }
      ]
    },
    {
      "cell_type": "markdown",
      "metadata": {
        "id": "fdBA6LNIlaXy"
      },
      "source": [
        "**Times que mais levaram gols do Vasco**"
      ]
    },
    {
      "cell_type": "code",
      "metadata": {
        "id": "M27gEFlJlfnj",
        "outputId": "c0c75d25-ca5f-4954-c6f7-81d643630f60",
        "colab": {
          "base_uri": "https://localhost:8080/",
          "height": 592
        }
      },
      "source": [
        "\n",
        "# Pelo dataframe 'Mandante'\n",
        "gols_vasco_casa = mandante.groupby('Visitante')['Mandante Gols'].sum()\n",
        "gols_vasco_casa = pd.DataFrame(gols_vasco_casa)\n",
        "gols_vasco_casa.columns = ['Gols Vasco Casa']\n",
        "gols_vasco_casa.reset_index(level=0, inplace=True)\n",
        "gols_vasco_casa.columns = ['Time','Gols Vasco Casa']\n",
        "\n",
        "# Pelo dataframe 'Visitante'\n",
        "gols_vasco_fora = visitante.groupby('Mandante')['Visitante Gols'].sum()\n",
        "gols_vasco_fora = pd.DataFrame(gols_vasco_fora)\n",
        "gols_vasco_fora.columns = ['Gols Vasco Fora']\n",
        "gols_vasco_fora.reset_index(level=0, inplace=True)\n",
        "gols_vasco_fora.columns = ['Time','Gols Vasco Fora']\n",
        "\n",
        "# Juntando os dataframes\n",
        "gols_vasco = gols_vasco_casa.merge(gols_vasco_fora, how='left', on='Time')\n",
        "\n",
        "# Criar coluna total com os gols marcados por adversarios\n",
        "gols_vasco['Gols'] = gols_vasco['Gols Vasco Casa'] + gols_vasco['Gols Vasco Fora']\n",
        "\n",
        "# Ordenar o dataframe\n",
        "gols_vasco.sort_values(by=['Gols'], inplace=True, ascending=False)\n",
        "\n",
        "# Criar gráfico\n",
        "ax = gols_vasco.plot.barh(x='Time', y='Gols',color ='blue',figsize=(10,10))\n"
      ],
      "execution_count": 38,
      "outputs": [
        {
          "output_type": "display_data",
          "data": {
            "image/png": "[encoded data removed]",
            "text/plain": [
              "<Figure size 720x720 with 1 Axes>"
            ]
          },
          "metadata": {
            "tags": [],
            "needs_background": "light"
          }
        }
      ]
    },
    {
      "cell_type": "markdown",
      "metadata": {
        "id": "53PRcdcZneQh"
      },
      "source": [
        "# Resultados Finais 2003-2019"
      ]
    },
    {
      "cell_type": "code",
      "metadata": {
        "id": "hzyiN_oOnhIy",
        "outputId": "31f380fa-8e16-4b3a-bef8-259206e8f621",
        "colab": {
          "base_uri": "https://localhost:8080/",
          "height": 119
        }
      },
      "source": [
        "# Vitórias\n",
        "vitorias = resultado['Vit'].sum()\n",
        "print('O Vasco da Gama venceu '+str(vitorias) + ' jogos.')\n",
        "\n",
        "# Derrotas\n",
        "derrotas = resultado['Der'].sum()\n",
        "print('O Vasco da Gama perdeu '+str(derrotas) + ' jogos.')\n",
        "\n",
        "# Empates\n",
        "empates = resultado['Emp'].sum()\n",
        "print('O Vasco da Gama empatou '+str(empates) + ' jogos.')\n",
        "\n",
        "# Gols Marcados\n",
        "print('O Vasco da Gama marcou '+str(gols) + ' gols.')\n",
        "\n",
        "# Gols por partida\n",
        "print('O Vasco da Gama marcou '+str(round(gols_partida,1)) + ' gols por partida.')\n",
        "\n",
        "# Aproveitamento de pontos\n",
        "pontos = 3*vitorias+empates\n",
        "aproveitamento = pontos/(3*(vitorias+derrotas+empates))\n",
        "print('O Vasco da Gama teve aproveitamento de '+str(100*round(aproveitamento,1)) + '%.')"
      ],
      "execution_count": 39,
      "outputs": [
        {
          "output_type": "stream",
          "text": [
            "O Vasco da Gama venceu 186 jogos.\n",
            "O Vasco da Gama perdeu 200 jogos.\n",
            "O Vasco da Gama empatou 166 jogos.\n",
            "O Vasco da Gama marcou 710 gols.\n",
            "O Vasco da Gama marcou 1.3 gols por partida.\n",
            "O Vasco da Gama teve aproveitamento de 40.0%.\n"
          ],
          "name": "stdout"
        }
      ]
    },
    {
      "cell_type": "markdown",
      "metadata": {
        "id": "N1j_ncgGxtp2"
      },
      "source": [
        "# Convertendo tudo para Html"
      ]
    },
    {
      "cell_type": "markdown",
      "metadata": {
        "id": "R2fUJ5Vxx346"
      },
      "source": [
        "Baixe o arquivo .iptynb atual, clicando em arquivo -> Fazer download do.iptynb\n",
        "Faça o upload do arquivo .iptynb baixado e execute o comando abaixo:"
      ]
    },
    {
      "cell_type": "code",
      "metadata": {
        "id": "OOEuTWoTwqTu",
        "outputId": "0a421d5a-d537-4ee0-a605-00945c90efab",
        "colab": {
          "base_uri": "https://localhost:8080/",
          "height": 51
        }
      },
      "source": [
        "%%shell\n",
        "jupyter nbconvert --to html /content/VascodaGama.ipynb"
      ],
      "execution_count": 41,
      "outputs": [
        {
          "output_type": "stream",
          "text": [
            "[NbConvertApp] Converting notebook /content/VascodaGama.ipynb to html\n",
            "[NbConvertApp] Writing 812312 bytes to /content/VascodaGama.html\n"
          ],
          "name": "stdout"
        },
        {
          "output_type": "execute_result",
          "data": {
            "text/plain": [
              ""
            ]
          },
          "metadata": {
            "tags": []
          },
          "execution_count": 41
        }
      ]
    },
    {
      "cell_type": "markdown",
      "metadata": {
        "id": "gCxpFYmJb4X8"
      },
      "source": [
        "# **Dashboard em Bootstrap**"
      ]
    },
    {
      "cell_type": "markdown",
      "metadata": {
        "id": "FlHHWoxycACj"
      },
      "source": [
        "Execute o código abaixo e clique no botão de menu no lado direito e escolha a opção: Ver saída em tela cheia"
      ]
    },
    {
      "cell_type": "code",
      "metadata": {
        "id": "_WWalx460IT9",
        "outputId": "9ac05dec-594c-4e70-dc85-3f0c33576654",
        "colab": {
          "resources": {
            "http://localhost:8080/nbextensions/grafico1.png": {
              "data": "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",
              "ok": true,
              "headers": [
                [
                  "content-type",
                  "image/png"
                ]
              ],
              "status": 200,
              "status_text": ""
            },
            "http://localhost:8080/nbextensions/grafico2.png": {
              "data": "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",
              "ok": true,
              "headers": [
                [
                  "content-type",
                  "image/png"
                ]
              ],
              "status": 200,
              "status_text": ""
            },
            "http://localhost:8080/nbextensions/grafico9.png": {
              "data": "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",
              "ok": true,
              "headers": [
                [
                  "content-type",
                  "image/png"
                ]
              ],
              "status": 200,
              "status_text": ""
            },
            "http://localhost:8080/nbextensions/grafico3.png": {
              "data": "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",
              "ok": true,
              "headers": [
                [
                  "content-type",
                  "image/png"
                ]
              ],
              "status": 200,
              "status_text": ""
            },
            "http://localhost:8080/nbextensions/grafico11.png": {
              "data": "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",
              "ok": true,
              "headers": [
                [
                  "content-type",
                  "image/png"
                ]
              ],
              "status": 200,
              "status_text": ""
            },
            "http://localhost:8080/nbextensions/grafico6.png": {
              "data": "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",
              "ok": true,
              "headers": [
                [
                  "content-type",
                  "image/png"
                ]
              ],
              "status": 200,
              "status_text": ""
            },
            "http://localhost:8080/nbextensions/grafico10.png": {
              "data": "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",
              "ok": true,
              "headers": [
                [
                  "content-type",
                  "image/png"
                ]
              ],
              "status": 200,
              "status_text": ""
            },
            "http://localhost:8080/nbextensions/grafico8.png": {
              "data": "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",
              "ok": true,
              "headers": [
                [
                  "content-type",
                  "image/png"
                ]
              ],
              "status": 200,
              "status_text": ""
            },
            "http://localhost:8080/nbextensions/grafico5.png": {
              "data": "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",
              "ok": true,
              "headers": [
                [
                  "content-type",
                  "image/png"
                ]
              ],
              "status": 200,
              "status_text": ""
            },
            "http://localhost:8080/nbextensions/grafico4.png": {
              "data": "iVBORw0KGgoAAAANSUhEUgAAA2AAAAGwCAYAAADPMwaiAAAABHNCSVQICAgIfAhkiAAAAAlwSFlzAAALEgAACxIB0t1+/AAAADh0RVh0U29mdHdhcmUAbWF0cGxvdGxpYiB2ZXJzaW9uMy4yLjIsIGh0dHA6Ly9tYXRwbG90bGliLm9yZy+WH4yJAAAgAElEQVR4nOzde1xUdeL/8fcoqIiI4KVFIJUoBbyg4i3LtDZsyajUvK3lrajNsrLsnoRZ2S9zrbX9GtWqldfd2nRL1DQ1NW9YmoquaF4AfZh4AxFkgM/vD7/ON1IUdebMDL2ej0ePB2fmM+e8z2mcB2/Omc+xGWOMAAAAAAAuV83dAQAAAADg94ICBgAAAAAWoYABAAAAgEUoYAAAAABgEQoYAAAAAFiEAgYAAAAAFqGAAQAAAIBFKGAAAAAAYBEKGAAAAABYhAIGAAAAABahgAEAAACARShgAAAAAGARChgAAAAAWIQCBgAAAAAWoYABAAAAgEUoYAAAAABgEQoYAAAAAFiEAgYAAAAAFqGAAQAAAIBFKGAAAAAAYBEKGAAAAABYhAIGAAAAABahgAEAAACARShgAAAAAGARChgAAAAAWIQCBgAAAAAWoYABAAAAgEUoYAAAAABgEQoYAAAAAFiEAgYAAAAAFqGAAQAAAIBFKGAAAAAAYBEKGAAAAABYhAIGAAAAABahgAEAAACARShgAODFHnnkEb322msu386KFSsUFhbm8u1cjVdffVWDBw922vqGDh2ql19+2WnrAwBAooABgMdq2rSp/Pz8FBAQoHr16unGG2/U1KlTVVZW5hgzdepUvfLKK5Va19KlS10Z16Ps27dPNptNJSUl7o4CAEA5FDAA8GD/+c9/lJ+fr/379+v555/XW2+9pREjRrg71lUpLS11dwQAANyGAgYAXiAwMFCJiYmaO3euZsyYoW3btkkqf5lcbm6uevXqpXr16ik4OFg333yzysrKdP/99+vAgQO66667VKdOHf2///f/Lrm9wsJCDR06VEFBQYqOjtbGjRvLPX/w4EH16dNHDRs2VLNmzfTee+9VuK6hQ4fqL3/5ixISEuTv76/ly5df9PUbNmxQXFyc6tatq2uuuUajR4+WdOHLICs6s9etWzdJUr169VSnTh2tXbtWe/bs0a233qr69eurQYMG+vOf/6wTJ044XvPjjz+qXbt2CggIUP/+/VVUVFRunR9++KEiIyMVHBysxMREHTx4UJJkjNFTTz2lRo0aqW7dumrVqpXj/89vnTx5UiNGjFBISIhCQ0P18ssvOwrp9OnT1bVrVz311FOqV6+eIiIi9P3332v69OkKDw9Xo0aNNGPGjAqP87FjxzRs2DA1btxYQUFBuueeeyRJx48fV69evdSwYUMFBQWpV69eys7Odrxu+vTpioiIUEBAgJo1a6aZM2dK0iWPFwDgylDAAMCLdOzYUWFhYVq1atV5z73zzjsKCwvTkSNHdPjwYb3xxhuy2Wz69NNPde211+o///mPTp06pWefffaS20lJSdGePXu0Z88eLV68uNwv/mVlZbrrrrvUpk0b5eTkaNmyZZo8ebIWL15c4fpmzZqll156Sfn5+brxxhsv+vonnnhCTzzxhPLy8rRnzx7169fvso/Td999J0k6ceKETp06pS5dusgYoxdeeEEHDx7Ujh07lJWVpVdffVWSVFxcrHvuuUf333+/jh07pvvuu0+ff/65Y33ffvutXnjhBc2bN0+HDh1SkyZNNGDAAEnSkiVL9N1332nXrl06efKk5s2bp/r1618w19ChQ+Xj46Pdu3frxx9/1JIlS/TRRx85nl+/fr1at26to0ePatCgQRowYIA2btyo3bt367PPPtNjjz2mU6dOXXDd999/v06fPq3t27frl19+0VNPPSXp7P+vYcOGaf/+/Tpw4ID8/Pz02GOPSZIKCgo0atQopaWlKT8/X99//71iY2Ml6aLHCwBw5ShgAOBlGjdurGPHjp33uK+vrw4dOqT9+/fL19dXN998s2w22xVtY968eXrppZcUHBys8PBwjRo1yvHcxo0bdeTIEY0dO1Y1atRQRESEHnroIc2ZM6fC9d19993q2rWrqlWrpq1bt1709b6+vtq9e7dyc3NVp04dde7c+Yr24bciIyN1++23q2bNmmrYsKFGjx6tlStXSpLWrVsnu92uJ598Ur6+vurbt686dOjgeO3MmTM1fPhwtWvXTjVr1tSbb76ptWvXat++ffL19VV+fr527twpY4yioqIUEhJy3vYPHz6shQsXavLkyfL391ejRo301FNPlTtuzZo107Bhw1S9enX1799fWVlZGjt2rGrWrKn4+HjVqFFDu3fvPm/dhw4dUlpamqZOnaqgoCD5+vrqlltukSTVr19fffr0Ue3atRUQEKCXXnrJsd+SVK1aNW3btk2FhYUKCQlRTEzMJY8XAODKUcAAwMvk5OQoODj4vMfHjBmjyMhIxcfHKyIiQhMmTLjibRw8eFDh4eGO5SZNmjh+3r9/vw4ePKh69eo5/nvjjTd0+PDhCtf363Vd6vUff/yxdu3apRYtWqhDhw766quvrng/fu3w4cMaMGCAQkNDVbduXQ0ePFi5ubmO/Q0NDS1XWH+9zwcPHiy3XKdOHdWvX185OTm69dZb9dhjj2nkyJFq1KiRkpKSlJeXd9729+/fL7vdrpCQEMd+P/zww/rll18cY6655hrHz35+fhd87EJnwLKyshQcHKygoKDznjt9+rQefvhhNWnSRHXr1lW3bt104sQJlZaWyt/fX3PnztXUqVMVEhKiO++8Uzt37rzk8QIAXDkKGAB4kY0bNyonJ0c33XTTec8FBATonXfe0c8//6wFCxZo0qRJWrZsmSRd9pmwkJAQZWVlOZYPHDjg+Dk8PFzNmjXTiRMnHP/l5+dr4cKFFa7v19u/1Ouvv/56zZ49W7/88ouee+459e3bVwUFBfL399fp06cd6yktLdWRI0cuub1zXnzxRdlsNm3dulV5eXn67LPPZIxx7G9OTo5j+bf73LhxY+3fv9+xXFBQoKNHjyo0NFSSNGrUKG3atEkZGRnatWuX3n777fO2Hx4erpo1ayo3N9ex33l5edq+fXuFx62ywsPDdezYsQt+R+udd97Rf//7X61fv155eXmOyzPP7WvPnj31zTff6NChQ2rRooUeeughSRc/XgCAK0cBAwAvkJeXp6+++koDBgzQ4MGD1apVq/PGfPXVV9q9e7eMMQoMDFT16tVVrdrZj/lrrrlGP//8c6W3169fP7355ps6fvy4srOz9be//c3xXMeOHRUQEKC33npLhYWFKi0t1bZt286bqKMil3r9Z599piNHjqhatWqqV6+epLOXyd1www0qKirS119/LbvdrvHjx+vMmTMX3EbDhg1VrVq1cvucn5+vOnXqKDAwUDk5OeVKUpcuXeTj46P33ntPdrtdX3zxhTZs2OB4fuDAgZo2bZo2b96sM2fO6MUXX1SnTp3UtGlTbdy4UevXr5fdbpe/v79q1arlOO6/FhISovj4eD399NPKy8tTWVmZ9uzZ45TL+kJCQvSnP/1Jjz76qI4fPy673e4oWvn5+fLz81O9evV07NgxpaSkOF53+PBhzZ8/XwUFBapZs6bq1KnjyH6x4wUAuHIUMADwYHfddZcCAgIUHh6u119/XaNHj9a0adMuODYzM1N//OMfVadOHXXp0kWPPvqoevToIUl64YUXNH78eNWrV08TJ06UdPYyugtN5iFJycnJatKkiZo1a6b4+Hjdf//9jueqV6+ur776Sps3b1azZs3UoEEDPfjggzp58mSl9ulSr1+0aJFiYmJUp04dPfHEE5ozZ478/PwUGBiov//973rwwQcVGhoqf3//Cm8OXbt2bb300kvq2rWr6tWrp3Xr1ik5OVk//PCDAgMDdeedd6p3796O8TVq1NAXX3yh6dOnKzg4WHPnzi33/B//+Ee99tpr6tOnj0JCQrRnzx7Hd7fy8vL00EMPKSgoSE2aNFH9+vU1ZsyYC+b65JNPVFxcrOjoaAUFBalv3746dOhQpY7bpXz66afy9fVVixYt1KhRI02ePFmS9OSTT6qwsFANGjRQ586ddccddzheU1ZWpkmTJqlx48YKDg7WypUr9T//8z+SdNHjBQC4cjbD9QQAAAAAYAnOgAEAAACARShgAAAAAGARChgAAAAAWIQCBgAAAAAWoYABAAAAgEV83B0Al6dBgwZq2rSpu2MAAACgitu3b59yc3PdHaPKoYB5maZNmyo9Pd3dMQAAAFDFxcXFuTtClcQliAAAAABgEQoYAAAAAFiEAgYAAAAAFuE7YAAAAPB6drtd2dnZKioqcncUr1OrVi2FhYXJ19fX3VF+FyhgAAAA8HrZ2dkKCAhQ06ZNZbPZ3B3HaxhjdPToUWVnZ6tZs2bujvO7wCWIAAAA8HpFRUWqX78+5esy2Ww21a9fnzOHFqKAAQAAoErw1vJ1+PBhzZgxw23b99bj5q0oYAAAAMBV6tGjhxYvXlzuscmTJ6tZs2aaMGGCJOnLL79URkZGuTH5+fl68skndeutt1a47qlTp+qTTz5xfmi4Bd8BAwAAQJVTVFKkWj61LFvfwIEDNWfOHPXs2dPx2Jw5czRjxgx169ZN0tkC1qtXL0VHRzvGBAQEaPbs2RWut6SkRI888ogT9gCeggLmIsOHD9dXX32lRo0aadu2bec9b4zRE088oYULF6p27dqaPn262rVr54akAAAAVU8tn1qypTjv0jqTbC76fN++ffXyyy+ruLhYNWrU0L59+3Tw4EHt2bNH8+bN06BBg7RgwQKtXLlS48eP1+eff678/Hw98sgjOn36tK677jr94x//UFBQkLp3767Y2FitXr1aAwcOVH5+vurUqaNnnnlGH374oVJTU1VcXKzIyEh9+umnql27tv75z38qJSVF1atXV2BgoL777jun7Tuci0sQXWTo0KFatGhRhc+npaUpMzNTmZmZSk1N1V/+8hcL0wEAAMCZgoOD1bFjR6WlpUk6e/arX79+ju9X3XjjjUpMTNTbb7+tzZs367rrrtMDDzygt956Sz/99JNatWqllJQUx/qKi4uVnp6up59+utx2evfurY0bN2rLli2KiorSxx9/LEkaN26cFi9erC1btmjBggUW7TWuBAXMRbp166bg4OAKn58/f74eeOAB2Ww2de7cWSdOnNChQ4csTAgAAABnOncZonS2gA0cOLDCsSdPntSJEyd0yy23SJKGDBlS7qxV//79L/i6bdu26eabb1arVq00c+ZMbd++XZLUtWtXDR06VB9++KFKS0udtUtwAQqYm+Tk5Cg8PNyxHBYWppycHDcmAgAAwNW4++67tWzZMv3www86ffq02rdvf8Xr8vf3v+DjQ4cO1ZQpU7R161YlJyc7po+fOnWqxo8fr6ysLLVv315Hjx694m3DtShgXiA1NVVxcXGKi4vTkSNH3BPC0+8N8dt85HWeC2Ujr/N403tBIq8reft7t6LHPIU3vRck8nqpOnXqqEePHho+fPgFz34FBAQoPz9fkhQYGKigoCCtWrVKkvTpp586zoaVU1ZWbjE/P18hISGy2+2aOXOm4/E9e/aoU6dOGjdunBo2bKisrCwn7hmciUk43CQ0NLTcP4zs7GyFhoZecGxSUpKSkpIkSXFxcZbkO0+tWpIn3yPC/OaLseR1nt9mlcjrTN70XpDI60re/t6VvCuvJ2eVyHsl0tKkgoL/W3bF70zp6ZccMrBDB907b57mvPzy2fF790q//CKlp2tAbKweeu01vTdhgv711lua8eyzeuTRR3W6qEgRoaGaNnbs2dfk50vnpqv/zX689tpr6tSpkxo2bKhOnTo5Ct2YMWOUmZkpY4xuu+02tWnTxum7D+ewGXOhT1A4w759+9SrV68LzoL49ddfa8qUKVq4cKHWr1+vUaNGacOGDZdcZ1xcnNIr8Y/fJbzpg18ir7NU9BFBXufwpveCRF5XqgrvXcm78npqVom8V2BHWpqiGjRwLBfFNFctvwCnrb+oMF+1tv/XaeurNIv++L5jxw5FRUX9ZtNu/L2zCuMMmIsMHDhQK1asUG5ursLCwpSSkiK73S5JeuSRR5SQkKCFCxcqMjJStWvX1rRp09ycGAAAoOqosCxVVGguUTScd0cx/N5RwFzkYjfUkySbzab333/fojQAAAAAPAGTcAAAAACARShgAAAAAGARChgAAAAAWIQCBgAAAAAWYRIOAAAAwAmqd+qkVtdd51geEB+v54cOddn2Jk+erKSkJNWuXdtl24DzUcAAAABQ5ZTExMjHz6/yL7jE/bZKCgvls337Rcf41aypzbNmVX6bV2ny5MkaPHgwBczLUMAAAABQ5fj4+SklJcVp60tOTr7i1zZNTNTA+Hilff+9fHx8lPrii3rh/fe1OytLY+6/X4/06aMVmzZp7AcfKKB2be3OylKPuDj9/bnnVE3SX/7yF23cuFGFhYXq27evUlJS9N577+ngwYPq0aOHGjRooOXLl2vJkiVKTk7WmTNndN1112natGmqU6eOnn/+eS1YsEA+Pj6Kj4/XxIkTnXZccPkoYAAAAIATFJ45o9hBgxzLLwwdqv7x8ZKka//wB22eNUtPTZqkoSkpWvPRRyoqLlbLAQP0SJ8+kqQN27crY+5cNQkJ0R2jRumL5cvVt2NHvf766woODlZpaaluu+02/fTTTxo1apQmTZqk5cuXq0GDBsrNzdX48eO1dOlS+fv766233tKkSZM0cuRI/fvf/9bOnTtls9l04sQJtxwb/B8KGAAAAOAEF7sEMbFbN0lSq8hInTp9WgH+/grw91dNX1+dyM+XJHWMiVFEWJgkaWDPnlq9ebP6Spo3b55SU1NVUlKiQ4cOKSMjQ61bty63/nXr1ikjI0Ndu3aVJBUXF6tLly4KDAxUrVq1NGLECPXq1Uu9evVy0d6jsihgAAAAgIvVrFFDklTNZnP8LEnVqlVTSWmpJMn2m9fYbDbt3btXEydO1MaNGxUUFKShQ4eqqKjovPUbY3T77bdr9uzZ5z23YcMGLVu2TP/61780ZcoUffvtt87bMVw2pqEHAAAAPMCGjAztzclRWVmZ5n7zjW6KjVVeXp78/f0VGBiow4cPKy0tzTE+ICBA+f979qxz585as2aNdu/eLUkqKCjQrl27dOrUKZ08eVIJCQn661//qi1btrhl3/B/OAMGAAAAOMFvvwN2R5cumvD445V+fYfoaD329tuOSTju7d5d1dq0Udu2bdWiRQuFh4c7LjGUpKSkJN1xxx1q3Lixli9frunTp2vgwIE6c+aMJGn8+PEKCAjQ3XffraKiIhljNGnSJOftMK6IzRhj3B0ClRcXF6f09HT3bNz22xPjHuRCb2PyOkdFHxHkdQ5vei9I5+U1hYWyXc40zxb7bT5PzlthNk99P/BvzbXIe9l2pKUpqkEDx/JlT0N/CZWZhv5qrNi0SRM/+0xf/fWv5Z+4xPT4zrJjxw5FRUX9ZtNu/L2zCuMMGADgitmcPM2zs/122mhPzns1U1wDOF+FZamiQnOJosEvzXAW3ksAAACAm3Vv317d27d3dwxYgEk4AAAAAMAiFDAAAAAAsAgFDAAAAAAsQgEDAAAAAIswCQcAAADgBNU7dVKr666TvaREPj4+eiAhQU8NGqRq1Zx/zmPz5s06ePCgEhISnL5uuBYFDAAAAFVP8+ZSQEDlx1/qflv5+dJ//3vRIX41a2rzrFmSpF+OHdOgl19WXkGBUh5+uFIRSv63uJVbrmDs5s2blZ6eTgHzQlyCCAAAgKonIODszaCd9d/llDlJjYKDlfrii5ryz3/KGKPS0lKNefdddXjgAbUeOFAffPGFpLM3YL75oYeUOHq0ovv3P2+5qKhIw4YNU6tWrdS2bVstX75cxcXFGjt2rObOnavY2FjNnTtXGzZsUJcuXdS2bVvdeOON+u//lsXt27erY8eOio2NVevWrZWZmen0Q43LwxkwAAAAwAUiwsJUWlqqX44d0/yVKxVYp442fvKJzhQXq+uDDyq+UydJ0g87d2rbnDlqFhqqFZs2lVt+5/33ZbPZtHXrVu3cuVPx8fHatWuXxo0bp/T0dE2ZMkWSlJeXp1WrVsnHx0dLly7Viy++qM8//1xTp07VE088oT//+c8qLi5WaWmpOw8JRAEDAAAAXG7J+vX6afdu/WvZMknSyYICZWZlqYavrzrGxKhZaKhj7K+XV69erccff1yS1KJFCzVp0kS7du06b/0nT57UkCFDlJmZKZvNJrvdLknq0qWLXn/9dWVnZ6t37966/vrrXb2ruAQuQQQAAABc4OfsbFWvXl2NgoNljNHfnnlGm2fN0uZZs7R3/nzFd+4sSfL38yv3ut8uV8Yrr7yiHj16aNu2bfrPf/6joqIiSdKgQYO0YMEC+fn5KSEhQd9+++3V7xiuCgUMAAAAcLIjx4/rkQkT9Nh998lms6ln5876n88/l72kRJK0a/9+FRQWXnI9N998s2bOnHn2Nbt26cCBA2revLkCAgKUn5/vGHfy5EmF/u9Zs+nTpzse//nnnxUREaFRo0bp7rvv1k8//eTEvcSVoIABAAAATlB45oxiBw1STL9++uPIkYrv1EnJDz0kSXrwnnsU3ayZ2g0erJb9++vhN99USSW+j/Xoo4+qrKxMrVq1Uv/+/TV9+nTVrFlTPXr0UEZGhmMSjmeffVYvvPCC2rZtq5L/LXmSNG/ePLVs2VKxsbHatm2bHnjgAZftPyrHZowx7g6ByouLi1N6erp7Nm6zuWe7lXGhtzF5naOijwjyOoc3vRekC+ZNSUlxQ5DKSU5OPu8xT817oaySPPf9wL811yLvZduRlqaoBg3+74HLnYb+UioxDb1LXGp6fCfZsWOHoqKifrNpN/7eWYUxCQeAy2YKC2Xz0L/dmMJC2a7g2nkAQBVTUVmqqNBQNGARChiAy2bz8/O+swgAAAAegO+AAQAAAIBFKGAAAADwfmVl8syL4z0fU0JYiwIGAAAAr1dr924dLSmhhF0mY4yOHj2qWrVquTvK7wbfAQMAAIDXC3v1VWW/+qqOREZK1S5yjmHHjgs/npvrmmBXq6K8TlSrVi2FhYW5fDs4iwIGAAAAr+d7/LiaPfHEpQdWdLlddLRzAzkLlwdWOVyCCAAAAAAWoYABAAAAgEUoYAAAAABgEQoYAAAAAFiEAgYAAAAAFqGAAQAAAIBFKGAAAAAAYBEKGAAAAABYhAIGAAAAABahgAEAAACARShgAAAAAGARChgAAAAAWIQCBgAAAAAWoYABAAAAgEUoYAAAAABgEQoYAAAAAFiEAgYAAAAAFqGAAQAAAIBFKGAutGjRIjVv3lyRkZGaMGHCec8fOHBAPXr0UNu2bdW6dWstXLjQDSkBAAAAWIUC5iKlpaUaOXKk0tLSlJGRodmzZysjI6PcmPHjx6tfv3768ccfNWfOHD366KNuSgsAAADAChQwF9mwYYMiIyMVERGhGjVqaMCAAZo/f365MTabTXl5eZKkkydPqnHjxu6ICg9gCgslYzzyP1NY6O7DAwAAUGX4uDtAVZWTk6Pw8HDHclhYmNavX19uzKuvvqr4+Hj97W9/U0FBgZYuXWp1THgIm5+fUlJS3B3jgpKTk90dAQAAoMrgDJgbzZ49W0OHDlV2drYWLlyo+++/X2VlZeeNS01NVVxcnOLi4nTkyBE3JAUAAADgDBQwFwkNDVVWVpZjOTs7W6GhoeXGfPzxx+rXr58kqUuXLioqKlJubu5560pKSlJ6errS09PVsGFD1wYHAAAA4DIUMBfp0KGDMjMztXfvXhUXF2vOnDlKTEwsN+baa6/VsmXLJEk7duxQUVERBQsAAACowihgLuLj46MpU6aoZ8+eioqKUr9+/RQTE6OxY8dqwYIFkqR33nlHH374odq0aaOBAwdq+vTpstlsbk4OAAAAwFWYhMOFEhISlJCQUO6xcePGOX6Ojo7WmjVrrI4FAAC8jCkslM0Yd8eokCkslM3Pz90xAK9AAQMAAPBwnjxbrsSMucDloIChUvjLGwAAAHD1KGCoFP7yBgAAAFw9JuEAAAAAAItQwAAAAADAIhQwAAAAALAIBQwAAAAALEIBAwAAAACLUMAAAAAAwCIUMAAAAACwCAUMAAAAACzCjZgBVHmmsFA2Y9wd44JMYaFsfn7ujgEAACxCAQNQ5dn8/JSSkuLuGBeUnJzs7ggAAMBCXIIIAAAAABahgAEAAACARbgEEQAAAE7Fd2+BilHAAAAA4FR89xaoGJcgAgAAAIBFKGAAAAAAYBEKGAAAAABYhAIGAAAAABahgAEAAACARShgAAAAAGARChgAAAAAWIQCBgAAAAAWoYABAAAAgEUoYAAAAABgEQoYAAAAAFiEAgYAAAAAFqGAAQAAAIBFKGAAAAAAYBEfdwcAAAAXZgoLZTPG3TEuyBQWyubnd/5jXpQXOIf3LqxEAQMAwEPZ/PyUkpLi7hgXlJycfN5j3pYXOIf3LqzEJYgAAAAAYBEKGAAAAABYhAIGAAAAABahgAEAAACARShgAAAAAGARChgAAAAAWIQCBgAAAAAWoYABAAAAgEW4ETOqJE++o73EXe0BAAB+ryhgqJI8+Y72Ene1BwAA+L3iEkQAAAAAsAgFDAAAAAAsQgEDAAAAAItQwAAAAADAIhQwAAAAALAIBQwAAAAALEIBAwAAAACLUMAAAAAAwCIUMAAAAACwCAUMAAAAACxCAQMAAAAAi1DAXGjRokVq3ry5IiMjNWHChAuOmTdvnqKjoxUTE6NBgwZZnBAAAACAlXzcHaCqKi0t1ciRI/XNN98oLCxMHTp0UGJioqKjox1jMjMz9eabb2rNmjUKCgrSL7/84sbEAAAAAFyNM2AusmHDBkVGRioiIkI1atTQgAEDNH/+/HJjPvzwQ40cOVJBQUGSpEaNGrkjKgAAAACLUMBcJCcnR+Hh4Y7lsLAw5eTklBuza9cu7dq1S127dlXnzp21aNEiq2MCAAAAsBCXILpRSUmJMjMztWLFCmVnZ6tbt27aunWr6tWrV25camqqUlNTJUlHjhxxR22Tr58AAB2ZSURBVFTAq9ntdiUnJ7s7xgXZ7Xb5+vq6OwYAALAIBawSTp48qVdffVWrVq2SJN1yyy0aO3asAgMDK3xNaGiosrKyHMvZ2dkKDQ0tNyYsLEydOnWSr6+vmjVrphtuuEGZmZnq0KFDuXFJSUlKSkqSJMXFxTlrt4DfDV9fX9lSbO6OcUEm2bg7AgAAsBCXIFbC8OHDVbduXc2bN0/z5s1T3bp1NWzYsIu+pkOHDsrMzNTevXtVXFysOXPmKDExsdyYe+65RytWrJAk5ebmateuXYqIiHDVbgAAAABwM86AVcKePXv0+eefO5aTk5MVGxt70df4+PhoypQp6tmzp0pLSzV8+HDFxMRo7NixiouLU2Jionr27KklS5YoOjpa1atX19tvv6369eu7encAAAAAuAkFrBL8/Py0evVq3XTTTZKkNWvWyM/P75KvS0hIUEJCQrnHxo0b5/jZZrNp0qRJmjRpknMDAwAAAPBIFLBKmDp1qh544AGdPHlSxhgFBwdr+vTp7o4FAAAAwMtQwCqhTZs22rJli/Ly8iRJdevWdXMiAMCVYEZMnGMKC2UznjsJjikslK0SV9sA8D4UsEr6+uuvtX37dhUVFTkeGzt2rBsTAQAuFzNi4hybn59SUlLcHaNCnvqHAgBXj1kQL2LKlCmSpEceeURz587V3/72Nxlj9M9//lP79+93czoAAAAA3oYCdhHffPONJOn777/XJ598oqCgICUnJ2vt2rXatWuXm9MBAAAA8DYUsIs4fvy4JKlWrVqSpNq1a+vgwYPy9fXVoUOH3BkNAAAAgBfiO2AXMXXqVEnSXXfdpRMnTmjMmDFq166dbDabHnzwQTenAwAAAOBtKGAXER0dLUl65ZVXJEl9+vRRr169VFRUpMDAQHdGAwAAAOCFuASxElJSUnTixAlJUs2aNVVWVqbXXnvNzakAVEWmsFAyxmP/M4WF7j5EAAB4Nc6AVcKXX35ZbjrYoKAg/eMf/1B2draysrK0cOFCN6YDUJUwNTYAAFUbZ8AqoaSkRMXFxY7loqIi1ahRQx988AGTcQAAAACoNM6AVcLgwYP1xz/+UUOHDpUkzZgxQyNGjJAkrV692o3JAAAAAHgTCtglGGM0aNAgtWnTRkuXLpUkvfjii+rZs6ckyd/f353xAAAAAHgRCtgl2Gw2JSQkaOvWrbrjjjvcHQcAAACAF+M7YJXQrl07bdy40d0xAAAAAHg5zoBVwvr16zVz5kw1adJE/v7+MsbIZrPpp59+cnc0AAAAAF6EAlYJixcvdncEAAAAAFUABawSmjRpoi1btmjVqlWSpJtvvllt2rRxcyoAAAAA3oYCVgnvvvuuPvzwQ/Xu3VvS2Wnpk5KS9Pjjj7s5GaoKu93usTe4tdvt8vX1dXcMAACAKoECVgkff/yx1q9f75hy/rnnnlOXLl0oYHAaX19f2VJs7o5xQSbZuDsCAABAlcEsiJVgjFH16tUdy9WrV5cx/FIKAAAA4PJwBqwShg0bpk6dOunee++VMUbz58/XiBEj3B0LAAAAgJehgFXC6NGj1b17d61evVo2m03Tpk1T27Zt3R0LAAAAgJfhEsTLcO6yQy4/BAAAAHAlKGCVMG7cOA0ZMkTHjx9Xbm6uhg0bpvHjx7s7FgAAAAAvwyWIlTBz5kxt2bJFtWrVkiQ9//zzio2N1csvv+zmZAAAAAC8CWfAKqFx48YqKipyLJ85c0ahoaFuTAQAAADAG3EGrBICAwMVExOj22+/XTabTd988406duyoUaNGSZLee+89NycEAAAA4A0oYJVw77336t5773Usd+/e3X1hAAAAAHgtClglDBkyRMXFxdq1a5ckqXnz5vL19XVzKgAAAADehgJWCStWrNCQIUPUtGlTGWOUlZWlGTNmqFu3bu6OBgAAAMCLUMAq4emnn9aSJUvUvHlzSdKuXbs0cOBAbdq0yc3JAAAAAHgTClgl2O12R/mSpBtuuEF2u92Niaxnt9uVnJzs7hgVstvtXBYKAAAAj0cBq4T27dvrwQcf1ODBgyWdvS9YXFycm1NZy9fXV7YUm7tjVMgkG3dHAAAAAC6JAlYJU6dO1fvvv++Ybv7mm2/Wo48+6uZUAOB+nB13LU8+vt5+bOFavHeBilHALqG0tFRt2rTRzp07NXr0aHfHAQCPwtlx1/Lk4+vtxxauxXsXqFg1dwfwdNWrV1fz5s114MABd0cBAAAA4OU4A1YJx48fV0xMjDp27Ch/f3/H4wsWLHBjKgAAAADehgJWCa+99pq7IwAAAACoAihgF1FUVKSpU6dq9+7datWqlUaMGCEfHw4ZAAAAgCvDd8AuYsiQIUpPT1erVq2Ulpamp59+2t2RAAAAAHgxTudcREZGhrZu3SpJGjFihDp27OjmRAAAAAC8GWfALuLX94jg0kMAAAAAV4tWcRFbtmxR3bp1JUnGGBUWFqpu3boyxshmsykvL8/NCQEAAAB4EwrYRZSWlro7AgAAAIAqhEsQAQAAAMAiFDAAAAAAsAgFDAAAAAAsQgEDAAAAAItQwAAAAADAIsyCCOCy2e12JScnuzvGBdnt9nL38ANgHT4bXMeTj63k/ccXsBIFDMBl8/X1lS3F5u4YF2SSjbsjAL9bfDa4jicfW8n7jy9gJS5BBAAAAACLUMBcaNGiRWrevLkiIyM1YcKECsd9/vnnstlsSk9PtzAdAAAAAKtRwFyktLRUI0eOVFpamjIyMjR79mxlZGScNy4/P1/vvvuuOnXq5IaUAAAAAKxEAXORDRs2KDIyUhEREapRo4YGDBig+fPnnzfulVde0XPPPadatWq5ISUAAAAAK1HAXCQnJ0fh4eGO5bCwMOXk5JQb88MPPygrK0t33nmn1fEAAAAAuAGzILpJWVmZRo8erenTp19ybGpqqlJTUyVJR44ccXEyAAAAAK7CGTAXCQ0NVVZWlmM5OztboaGhjuX8/Hxt27ZN3bt3V9OmTbVu3TolJiZecCKOpKQkpaenKz09XQ0bNrQkPwAAAADn4wyYi3To0EGZmZnau3evQkNDNWfOHM2aNcvxfGBgoHJzcx3L3bt318SJExUXF+eOuFUON6wEAACAJ6KAuYiPj4+mTJminj17qrS0VMOHD1dMTIzGjh2ruLg4JSYmujtilcYNKwEAAOCJKGAulJCQoISEhHKPjRs37oJjV6xYYUEiAAAAAO7Ed8AAAAAAwCIUMAAAAACwCAUMAAAAACxCAQMAAAAAi1DAAAAAAMAizIIIAACA3zVPvn8o9w6teihgAAAA+F3z5PuHcu/QqodLEAEAAADAIhQwAAAAALAIBQwAAAAALEIBAwAAAACLUMAAAAAAwCIUMAAAAACwCAUMAAAAACxCAQMAAAAAi3AjZgDwIHa7XcnJye6OUSG73S5fX193xwAAwGtRwADAg/j6+sqWYnN3jAqZZOPuCAAAeDUuQQQAAAAAi1DAAAAAAMAiFDAAAAAAsAgFDAAAAAAsQgEDAAAAAItQwAAAAADAIhQwAAAAALAIBQwAAAAALEIBAwAAAACLUMAAAAAAwCIUMAAAAACwCAUMAAAAACxCAQMAAAAAi1DAAAAAAMAiFDAAAAAAsAgFDAAAAAAsQgEDAAAAAItQwAAAAADAIhQwAAAAALAIBQwAAAAALOLj7gAAAABWs9vtSk5OdneMCtntdvn6+ro7BgAXoIABAIDfHV9fX9lSbO6OUSGTbNwdAYCLcAkiAAAAAFiEAgYAAAAAFqGAAQAAAIBFKGAAAAAAYBEKGAAAAABYhAIGAAAAABahgAEAAACARShgAAAAAGARChgAAAAAWIQCBgAAAAAWoYABAAAAgEUoYAAAAABgEQoYAAAAAFiEAgYAAAAAFqGAudCiRYvUvHlzRUZGasKECec9P2nSJEVHR6t169a67bbbtH//fjekBAAAAGAVCpiLlJaWauTIkUpLS1NGRoZmz56tjIyMcmPatm2r9PR0/fTTT+rbt6+effZZN6UFAAAAYAUKmIts2LBBkZGRioiIUI0aNTRgwADNnz+/3JgePXqodu3akqTOnTsrOzvbHVEBAAAAWIQC5iI5OTkKDw93LIeFhSknJ6fC8R9//LH+9Kc/WRENAAAAgJv4uDsApM8++0zp6elauXLlBZ9PTU1VamqqJOnIkSNWRgMAAADgRJwBc5HQ0FBlZWU5lrOzsxUaGnreuKVLl+r111/XggULVLNmzQuuKykpSenp6UpPT1fDhg1dlhkAAACAa1HAXKRDhw7KzMzU3r17VVxcrDlz5igxMbHcmB9//FEPP/ywFixYoEaNGrkpKQAAAACrUMBcxMfHR1OmTFHPnj0VFRWlfv36KSYmRmPHjtWCBQskSWPGjNGpU6d03333KTY29ryCBgAAAKBq4TtgLpSQkKCEhIRyj40bN87x89KlS62OBAAAAMCNOAMGAAAAABahgAEAAACARShgAAAAAGARChgAAAAAWIQCBgAAAAAWoYABAAAAgEUoYAAAAABgEQoYAAAAAFiEAgYAAAAAFqGAAQAAAIBFKGAAAAAAYBEKGAAAAABYhAIGAAAAABahgAEAAACARShgAAAAAGARChgAAAAAWIQCBgAAAAAWoYABAAAAgEUoYAAAAABgEQoYAAAAAFiEAgYAAAAAFqGAAQAAAIBFKGAAAAAAYBEKGAAAAABYhAIGAAAAABahgAEAAACARShgAAAAAGARChgAAAAAWIQCBgAAAAAWoYABAAAAgEUoYAAAAABgEQoYAAAAAFiEAgYAAAAAFqGAAQAAAIBFKGAAAAAAYBEKGAAAAABYhAIGAAAAABahgAEAAACARShgAAAAAGARChgAAAAAWIQCBgAAAAAWoYABAAAAgEUoYAAAAABgEQoYAAAAAFiEAgYAAAAAFqGAAQAAAIBFKGAAAAAAYBEKGAAAAABYhAIGAAAAABahgAEAAACARShgAAAAAGARChgAAAAAWIQCBgAAAAAWoYC50KJFi9S8eXNFRkZqwoQJ5z1/5swZ9e/fX5GRkerUqZP27dtnfUgAAAAAlqGAuUhpaalGjhyptLQ0ZWRkaPbs2crIyCg35uOPP1ZQUJB2796tp556Ss8995yb0gIAAACwAgXMRTZs2KDIyEhFRESoRo0aGjBggObPn19uzPz58zVkyBBJUt++fbVs2TIZY9wRFwAAAIAFKGAukpOTo/DwcMdyWFiYcnJyKhzj4+OjwMBAHT161NKcAAAAAKxjM5xycYl//etfWrRokT766CNJ0qeffqr169drypQpjjEtW7bUokWLFBYWJkm67rrrtH79ejVo0KDculJTU5WamipJ2rlzp1q0aGHRXrjOkSNH1LBhQ3fHqDTyupY35fWmrBJ5Xc2b8npTVom8rkZe1/GmrJeyb98+5ebmujtGlePj7gBVVWhoqLKyshzL2dnZCg0NveCYsLAwlZSU6OTJk6pfv/5560pKSlJSUpLLM1spLi5O6enp7o5RaeR1LW/K601ZJfK6mjfl9aasEnldjbyu401Z4R5cgugiHTp0UGZmpvbu3avi4mLNmTNHiYmJ5cYkJiZqxowZks6eMbv11ltls9ncERcAAACABTgD5iI+Pj6aMmWKevbsqdLSUg0fPlwxMTEaO3as4uLilJiYqBEjRuj+++9XZGSkgoODNWfOHHfHBgAAAOBC1V999dVX3R2iqrr++uv1+OOP64knnlC3bt0kST169FDz5s0lnS1p/fr106hRo/TQQw8pKCjInXEt1759e3dHuCzkdS1vyutNWSXyupo35fWmrBJ5XY28ruNNWWE9JuEAAAAAAIvwHTAAAAAAsAgFDE6RlZWlHj16KDo6WjExMXr33XclSceOHdPtt9+u66+/XrfffruOHz8uSTLGaNSoUYqMjFTr1q31ww8/SJL279+vdu3aKTY2VjExMZo6dapH5z0nLy9PYWFheuyxxzw+b/Xq1RUbG6vY2NjzJobxxLwHDhxQfHy8oqKiFB0drX379nlk1uXLlzuOa2xsrGrVqqUvv/zSqVmdmVeSnn32WcXExCgqKkqjRo1yyY3gLzfvzp071aVLF9WsWVMTJ04st65FixapefPmioyM1IQJE5ye1dl5hw8frkaNGqlly5YuyerMvBWtxxOzFhUVqWPHjmrTpo1iYmKUnJzs9KzOzCtJTZs2VatWrRQbG6u4uDiPzvvf//633GdZ3bp1NXnyZI/NK0l//etfFRMTo5YtW2rgwIEqKiry6LzvvvuuWrZsqZiYGJccW3gBAzjBwYMHzaZNm4wxxuTl5Znrr7/ebN++3YwZM8a8+eabxhhj3nzzTfPss88aY4z5+uuvzR133GHKysrM2rVrTceOHY0xxpw5c8YUFRUZY4zJz883TZo0MTk5OR6b95xRo0aZgQMHmpEjRzo9q7Pz+vv7uySjq/LecsstZsmSJcaYs++JgoICj816ztGjR01QUJDTszoz75o1a8yNN95oSkpKTElJiencubNZvny52/MePnzYbNiwwbz44ovm7bffdqynpKTEREREmD179pgzZ86Y1q1bm+3bt3tsXmOMWblypdm0aZOJiYlxek5n561oPZ6YtayszOTn5xtjjCkuLjYdO3Y0a9eudWpWZ+Y1xpgmTZqYI0eOOD2jq/KeU1JSYq655hqzb98+j82bnZ1tmjZtak6fPm2MMea+++4z06ZN89i8W7duNTExMaagoMDY7XZz2223mczMTKfnhWejgMElEhMTzZIlS8wNN9xgDh48aIw5++F1ww03GGOMSUpKMrNmzXKM//W4c3Jzc014eLhLCpgz86anp5v+/fubadOmuayAOTOvFQXMWXm3b99uunbt6hVZf+2DDz4wgwYN8ui833//vWnXrp05ffq0KSgoMO3btzcZGRluz3tOcnJyuV9avv/+exMfH+9YfuONN8wbb7zhsXnP2bt3r0sL2G9dbd7frsfTsxYUFJi2bduadevWuTTr1ea1ooD9ljOO7+LFi82NN97o8qzGXHne7OxsExYWZo4ePWrsdru58847zeLFiz0277x588zw4cMdy+PGjTNvvfWWy/PCs3AJIpxu3759+vHHH9WpUycdPnxYISEhkqQ//OEPOnz4sCQpJydH4eHhjteEhYUpJydH0tnT/K1bt1Z4eLiee+45NW7c2GPzlpWV6emnnz7v8gJPzSudvXwnLi5OnTt3dsklcs7Mu2vXLtWrV0+9e/dW27ZtNWbMGJWWlnpk1l+bM2eOBg4c6LKczsjbpUsX9ejRQyEhIQoJCVHPnj0VFRXl9rwVqcxx96S87uCsvL9ej6tcbdbS0lLFxsaqUaNGuv32212a1Rl5bTab4uPj1b59e6Wmpro0q+S894InfZZVJDQ0VM8884yuvfZahYSEKDAwUPHx8R6bt2XLllq1apWOHj2q06dPa+HChcrKynJpXngeChic6tSpU+rTp48mT56sunXrlnvOZrNV6kbT4eHh+umnn7R7927NmDHDpb/oXG3ev//970pISFBYWJjLMv6aM47v/v37lZ6erlmzZunJJ5/Unj17XBX3qvOWlJRo1apVmjhxojZu3Kiff/5Z06dP98is5xw6dEhbt25Vz549XRHT4Wrz7t69Wzt27FB2drZycnL07bffatWqVR6b12q/17wXW4+zOCNr9erVtXnzZmVnZ2vDhg3atm2bS7JKzsm7evVq/fDDD0pLS9P777+v7777zlVxnfZeKC4u1oIFC3Tfffe5IqbD1eY9fvy45s+fr7179+rgwYMqKCjQZ5995rF5o6Ki9Nxzzyk+Pl533HGHYmNjVb16dZflhWeigMFp7Ha7+vTpoz//+c/q3bu3JOmaa67RoUOHJJ39xbRRo0aSzv7F6td/8cnOzlZoaGi59TVu3NjxlyJPzbt27VpNmTJFTZs21TPPPKNPPvlEzz//vMfmPfecJEVERKh79+768ccfPTZvWFiYYmNjFRERIR8fH91zzz3nTYDiKVnPmTdvnu699175+vo6Pacz8/773/9W586dVadOHdWpU0d/+tOftHbtWrfnrUhlPjM8Ka+VnJX3Quvx1Kzn1KtXTz169NCiRYs8Ou+592qjRo107733asOGDR6dV5LS0tLUrl07XXPNNS7J6qy8S5cuVbNmzdSwYUP5+vqqd+/e+v777z02rySNGDFCmzZt0nfffaegoCDdcMMNLskLz0UBg1MYYzRixAhFRUVp9OjRjscTExM1Y8YMSdKMGTN09913Ox7/5JNPZIzRunXrFBgYqJCQEGVnZ6uwsFDS2b9qrV692nHjak/MO3PmTB04cED79u3TxIkT9cADD7hkdjZn5T1+/LjOnDkjScrNzdWaNWsUHR3tsXk7dOigEydO6MiRI5Kkb7/91ul5nZX1nNmzZ7v0kh1n5b322mu1cuVKlZSUyG63a+XKlS65BPFy81akQ4cOyszM1N69e1VcXKw5c+a4ZBZPZ+W1irPyVrQeT8x65MgRnThxQpJUWFiob775Ri1atPDYvAUFBcrPz3f8vGTJEpfMjOns966nfZZV5Nprr9W6det0+vRpGWO0bNkyj/4sk6RffvlF0tlZfr/44gsNGjTI6Xnh4az8whmqrlWrVhlJplWrVqZNmzamTZs25uuvvza5ubnm1ltvNZGRkea2224zR48eNcacncXq0UcfNREREaZly5Zm48aNxhhjlixZYlq1amVat25tWrVqZT744AOPzvtrrpyEw1l516xZY1q2bGlat25tWrZsaT766COPzmvM/70nWrZsaYYMGWLOnDnjsVn37t1rGjdubEpLS52a0RV5S0pKTFJSkmnRooWJiooyTz31lEfkPXTokAkNDTUBAQEmMDDQhIaGmpMnTxpjzs7oeP3115uIiAgzfvx4j887YMAA84c//MH4+PiY0NBQl/x7c1beitbjiVm3bNliYmNjTatWrUxMTIxJSUlxak5n592zZ49p3bq1ad26tYmOjvaK9+6pU6dMcHCwOXHihEuyOjvv2LFjTfPmzU1MTIwZPHiwYzZlT8170003maioKNO6dWuzdOlSp2eF57MZ44IbvwAAAAAAzsMliAAAAABgEQoYAAAAAFiEAgYAAAAAFqGAAQAAAIBFKGAAAAAAYBEKGADAa3355Zey2WzauXOnu6MAAFApFDAAgNeaPXu2brrpJs2ePdvdUQAAqBQKGADAK506dUqr/397d8wSVxaHcfidUVBsLOzEZpqJCDMoSJoEklI0TTCBgTBRtMkHsMinMI2QSiwsJsWg+AFGxCSNEEIQIUKKkfQhwTRCJFslsLBpFvaI6/OUl8Pl/Msf53LumzfZ3NzMq1evkiQHBwe5f/9+Hj16lMnJyTx58iS/fnfZ6/UyMzOTRqORlZWVXFxcJEmeP3+eqampNJvNrK2tXdk8ANwMg1e9AQD4N/b29jI3N5d6vZ6xsbG8e/cuSfL+/fucnJxkfHw8d+7cydu3bzM7O5vl5eX0er3U6/U8ffo0L1++TLvdzu7ubj5+/JhKpZKvX79e8VQA/N85AQPgWup0Omm1WkmSVqv1+zPE27dvZ2JiItVqNdPT0+n3+zk9PU2tVku9Xk+SLC0t5fDwMKOjoxkeHs7q6mp2dnYyMjJyZfMAcDM4AQPg2vny5Uv29/dzfHycSqWSy8vLVCqVLCwsZGho6Pe6gYGB/Pjx44/vGRwczNHRUXq9XrrdbjY2NrK/v19iBABuKCdgAFw73W437XY7Z2dn6ff7+fz5c2q1Wl6/fv2P62/dupV+v59Pnz4lSba3t3Pv3r18//493759y/z8fF68eJEPHz6UHAOAG0iAAXDtdDqdPHz48G/PFhcX/3gb4vDwcLa2tvL48eM0Go1Uq9U8e/Ys5+fnefDgQZrNZu7evZv19fUS2wfgBqv8/HU9FAAAAP8pJ2AAAACFCDAAAIBCBBgAAEAhAgwAAKAQAQYAAFCIAAMAAChEgAEAABQiwAAAAAoRYAAAAIUIMAAAgEIEGAAAQCECDAAAoBABBgAAUIgAAwAAKESAAQAAFCLAAAAAChFgAAAAhQgwAACAQgQYAABAIQIMAACgEAEGAABQiAADAAAoRIABAAAUIsAAAAAK+Qs6l9XaIpC65AAAAABJRU5ErkJggg==",
              "ok": true,
              "headers": [
                [
                  "content-type",
                  "image/png"
                ]
              ],
              "status": 200,
              "status_text": ""
            },
            "http://localhost:8080/nbextensions/grafico7.png": {
              "data": "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",
              "ok": true,
              "headers": [
                [
                  "content-type",
                  "image/png"
                ]
              ],
              "status": 200,
              "status_text": ""
            }
          },
          "base_uri": "https://localhost:8080/",
          "height": 1000
        }
      },
      "source": [
        "from IPython.display import display, HTML, IFrame\n",
        "import pandas as pd\n",
        "import numpy as np\n",
        "import matplotlib.pyplot as plt\n",
        "import matplotlib as rc\n",
        "from IPython.display import Image\n",
        "import base64\n",
        "df = pd.read_csv(\"campeonato-brasileiro-full.csv\")\n",
        "# Convertendo para o html\n",
        "#pd.set_option('display.max_colwidth', 10)\n",
        "htmTable = df.head().to_html(classes=\"table table-hover table-dark table-responsive\")\n",
        "df = df.replace(['INTERNACIONAL','REMO','MALUTROM','PALMEIRAS','BAHIA','CRUZEIRO','PONTE PRETA',\n",
        "                 'FLUMINENSE','SPORT','VASCO','SANTOS','CORINTHIANS','JUVENTUDE','FLAMENGO','GUARANI','PAYSANDU','Botafogo-RJ'],\n",
        "                ['Internacional','Remo','Malutrom','Palmeiras','Bahia','Cruzeiro','Ponte Preta',\n",
        "                 'Fluminense','Sport','Vasco','Santos','Corinthians','Juventude','Flamengo','Guarani','Paysandu','Botafogo-rj'])\n",
        "# Criar coluna 'Ano'\n",
        "df['Data'] = pd.to_datetime(df['Data'])\n",
        "df['Ano'] = df['Data'].dt.year\n",
        "\n",
        "# Eliminar as partidas antes de 2003\n",
        "df = df.drop(df[df.Ano < 2003].index)\n",
        "\n",
        "# Eliminar colunas que não serão usadas\n",
        "df = df.drop(['Horário', 'Dia','Rodada','Arena','Clube 1 Estado','Clube 2 Estado','Estado Clube Vencedor'], axis = 1)\n",
        "\n",
        "# Renomear colunas\n",
        "df = df.rename(columns={\"Clube 1\":\"Mandante\",\"Clube 2\":\"Visitante\",\"Clube 1 Gols\":\"Mandante Gols\",\n",
        "                        \"Clube 2 Gols\":\"Visitante Gols\"})\n",
        "\n",
        "# Trocar \"-\" por \"Empate\" na coluna 'Vencedor'\n",
        "df = df.replace('-','Empate')\n",
        "\n",
        "# Criar outro dataframe\n",
        "dados = df.copy()\n",
        "\n",
        "# Eliminar partidas que o Flamengo não jogou\n",
        "df = df.drop(df[(df['Mandante'] != 'Vasco') & (df['Visitante'] != 'Vasco')].index)\n",
        "\n",
        "# Vamos dar uma olhada no dataframe\n",
        "df.to_csv('novo_dataframe.csv', sep='\\t', encoding='utf-8')\n",
        "htmtable2 = df.head().to_html(classes=\"table table-hover table-dark table-responsive\")\n",
        "\n",
        "jogos = df.groupby('Ano')['Ano'].count()\n",
        "jogos = pd.DataFrame(jogos)\n",
        "jogos.columns = ['Jogos']\n",
        "jogos.reset_index(level=0, inplace=True)\n",
        "df = jogos\n",
        "df.to_csv('jogos.csv', sep='\\t', encoding='utf-8')\n",
        "htmtable3 = df.head().to_html(classes=\"table table-hover table-dark table-responsive\")\n",
        "\n",
        "## Partidas como mandante ##\n",
        "# Criar um dataframe para partidas como mandante\n",
        "df = dados\n",
        "mandante = df.copy()\n",
        "mandante = mandante.drop(mandante[mandante['Mandante'] != 'Vasco'].index)\n",
        "\n",
        "# Criar um dataframe com nº de jogos por ano\n",
        "jogos_mandante = mandante.groupby('Ano')['Ano'].count()\n",
        "jogos_mandante = pd.DataFrame(jogos_mandante)\n",
        "jogos_mandante.columns = ['Partidas mandante']\n",
        "jogos_mandante.reset_index(level=0, inplace=True)\n",
        "\n",
        "# Dataframe com o nº de gols por edição\n",
        "gols_mandante = mandante.groupby('Ano')['Mandante Gols'].sum()\n",
        "gols_mandante = pd.DataFrame(gols_mandante)\n",
        "gols_mandante.columns = ['Mandante Gols']\n",
        "gols_mandante.reset_index(level=0, inplace=True)\n",
        "\n",
        "# Dataframe com partidas e gols por edição\n",
        "gp_mandante = jogos_mandante.merge(gols_mandante, how='left', on='Ano')\n",
        "\n",
        "# Criar coluna com a média de gols por partida\n",
        "gp_mandante['GP Mandante'] = round(gp_mandante['Mandante Gols']/gp_mandante['Partidas mandante'],2)\n",
        "\n",
        "## Partidas como visitante ##\n",
        "# Criar um dataframe para partidas como visitante\n",
        "visitante = df.copy()\n",
        "visitante = visitante.drop(visitante[visitante['Visitante'] != 'Vasco'].index)\n",
        "\n",
        "# Criar um dataframe com nº de jogos por ano\n",
        "jogos_visitante = visitante.groupby('Ano')['Ano'].count()\n",
        "jogos_visitante = pd.DataFrame(jogos_visitante)\n",
        "jogos_visitante.columns = ['Partidas visitante']\n",
        "jogos_visitante.reset_index(level=0, inplace=True)\n",
        "\n",
        "# Dataframe com o nº de gols por edição\n",
        "gols_visitante = visitante.groupby('Ano')['Visitante Gols'].sum()\n",
        "gols_visitante = pd.DataFrame(gols_visitante)\n",
        "gols_visitante.columns = ['Visitante Gols']\n",
        "gols_visitante.reset_index(level=0, inplace=True)\n",
        "\n",
        "# Dataframe com partidas e gols por edição\n",
        "gp_visitante = jogos_visitante.merge(gols_visitante, how='left', on='Ano')\n",
        "\n",
        "# Criar coluna com a média de gols por partida\n",
        "gp_visitante['GP Visitante'] = round(gp_visitante['Visitante Gols']/gp_visitante['Partidas visitante'],2)\n",
        "\n",
        "## Todas as Partidas ##\n",
        "gp_geral = gp_mandante.merge(gp_visitante, how='left', on='Ano')\n",
        "gp_geral['Partidas'] = gp_geral['Partidas mandante'] + gp_geral['Partidas visitante']\n",
        "gp_geral['Gols'] = gp_geral['Mandante Gols'] + gp_geral['Visitante Gols']\n",
        "gp_geral['GP Geral'] = round(gp_geral['Gols']/gp_geral['Partidas'],2)\n",
        "#print(gp_geral)\n",
        "df = gp_geral\n",
        "df.to_csv('gols.csv', sep='\\t', encoding='utf-8')\n",
        "htmtable4 = df.head().to_html(classes=\"table table-hover table-dark table-responsive\")\n",
        "\n",
        "r =[0,1,2,3,4,5,6,7,8,9,10,11,12,13]\n",
        "#print(r)\n",
        "nomes = ('2003','2004','2005','2006','2007','2008','2010','2011','2012','2013','2015','2017','2018','2019')\n",
        "\n",
        "coluna1 = gp_geral['Gols']\n",
        "#print(gp_geral['Gols'])\n",
        "# gráfico\n",
        "barWidth = 0.9\n",
        "# Criando a barra de gols marcados\n",
        "plt.bar(r, coluna1, color='black', width=barWidth)\n",
        "\n",
        "# Eixo X\n",
        "plt.xticks(r, nomes)\n",
        "plt.xlabel(\"Anos\")\n",
        "plt.ylabel(\"Gols\")\n",
        "plt.title(\"Gols por Ano\")\n",
        "\n",
        "# Tamanho do gráfico\n",
        "plt.rcParams[\"figure.figsize\"] = [12,6]\n",
        " \n",
        "# Visualizar o gráfico\n",
        "#grafico1 = plt.show()\n",
        "grafico1 =plt.savefig('/usr/local/share/jupyter/nbextensions/grafico1.png')\n",
        "\n",
        "plt.close(grafico1)\n",
        "#caminho1 = Image(filename='grafico1.png') \n",
        "#print(caminho1)\n",
        "#app= display(Image('grafico1.png'))\n",
        "#Encoded_Image=str(base64.b64encode(Image(filename='grafico1.png').data))\n",
        "\n",
        "\n",
        "coluna1 = gp_geral['GP Geral']\n",
        "\n",
        "# gráfico\n",
        "barWidth = 0.9\n",
        "# Criando a barra de gols marcados por partida\n",
        "plt.bar(r, coluna1, color='black', width=barWidth)\n",
        "\n",
        "# Eixo X\n",
        "plt.xticks(r, nomes)\n",
        "plt.xlabel(\"Anos\")\n",
        "plt.ylabel(\"Gols\")\n",
        "plt.title(\"Gols por Partida\")\n",
        "\n",
        "# Tamanho do gráfico\n",
        "plt.rcParams[\"figure.figsize\"] = [12,6]\n",
        " \n",
        "# Visualizar o gráfico\n",
        "#plt.show()\n",
        "grafico2 =plt.savefig('/usr/local/share/jupyter/nbextensions/grafico2.png')\n",
        "\n",
        "plt.close(grafico2)\n",
        "\n",
        "coluna1 = gp_geral['Mandante Gols']/gp_geral['Gols']\n",
        "coluna2 = gp_geral['Visitante Gols']/gp_geral['Gols']\n",
        "\n",
        "# gráfico\n",
        "barWidth = 0.9\n",
        "# Criando a barra de gols em casa\n",
        "plt.bar(r, coluna1, color='black', edgecolor='white', width=barWidth,label='Gols em Casa')\n",
        "# Criando a barra de gols fora de casa\n",
        "plt.bar(r, coluna2, bottom=coluna1, color='blue', edgecolor='white', width=barWidth,label='Gols Fora')\n",
        "\n",
        "# Eixo X\n",
        "plt.xticks(r, nomes)\n",
        "plt.xlabel(\"Anos\")\n",
        "plt.ylabel(\"Proporção\")\n",
        "plt.title(\"Distribuição de gols em casa e fora\")\n",
        " \n",
        "plt.rcParams[\"figure.figsize\"] = [12,6]\n",
        "    \n",
        "# Visualizar o gráfico\n",
        "plt.legend()\n",
        "#plt.show()\n",
        "grafico3 =plt.savefig('/usr/local/share/jupyter/nbextensions/grafico3.png')\n",
        "\n",
        "plt.close(grafico3)\n",
        "\n",
        "# Gols por jogo\n",
        "gols = gp_geral['Gols'].sum()\n",
        "partidas =  gp_geral['Partidas'].sum()\n",
        "gols_partida = gols/partidas\n",
        "frase1 = \"O Vasco da Gama tem uma média de \"+str(round(gols_partida,1))+ \" gols por partida\"\n",
        "\n",
        "# Gols por jogo em casa\n",
        "gols_casa = gp_geral['Mandante Gols'].sum()\n",
        "gols_partida_casa =  gp_geral['Partidas mandante'].sum()\n",
        "frase2 = \"Em casa, o Vasco da Gama tem uma média de \"+str(round(gols_partida_casa,1))+ \" gols por partida\"\n",
        "\n",
        "# Gols por jogo fora de casa\n",
        "gols_fora = gp_geral['Visitante Gols'].sum()\n",
        "partidas_fora =  gp_geral['Partidas visitante'].sum()\n",
        "gols_partida_fora = gols_fora/partidas_fora\n",
        "frase3 = \"Fora de casa, o Vasco da Gama tem uma média de \"+str(round(gols_partida_fora,1))+ \" gols por partida\"\n",
        "\n",
        "# Contar o número de vitórias\n",
        "vitorias_casa=mandante.groupby('Ano')['Vencedor'].apply(lambda x: (x=='Vasco').sum()).reset_index(name='Vitórias')\n",
        "\n",
        "# Contar o número de empates\n",
        "empates_casa=mandante.groupby('Ano')['Vencedor'].apply(lambda x: (x=='Empate').sum()).reset_index(name='Empates')\n",
        "\n",
        "# Juntar os dataframes\n",
        "resultado_casa = jogos_mandante.merge(vitorias_casa, how='left', on='Ano')\n",
        "resultado_casa = resultado_casa.merge(empates_casa, how='left', on='Ano')\n",
        "\n",
        "# Ajeitar coluna\n",
        "resultado_casa = resultado_casa.rename(columns={\"Partidas mandante\":\"Jogos\"}) \n",
        "\n",
        "# Criar coluna de derrotas\n",
        "resultado_casa['Derrotas']= resultado_casa['Jogos'] - resultado_casa['Vitórias']-resultado_casa['Empates']\n",
        "\n",
        "coluna1 = resultado_casa['Vitórias']/resultado_casa['Jogos']\n",
        "coluna2 = resultado_casa['Empates']/resultado_casa['Jogos']\n",
        "coluna3 = resultado_casa['Derrotas']/resultado_casa['Jogos']\n",
        "\n",
        "# gráfico\n",
        "barWidth = 0.9\n",
        "# Criando a barra de vitórias\n",
        "plt.bar(r, coluna1, color='green', edgecolor='white', width=barWidth,label='Vitórias')\n",
        "# Criando a barra de empates\n",
        "plt.bar(r, coluna2, bottom=coluna1, color='gray', edgecolor='white', width=barWidth,label='Empates')\n",
        "# Criando a barra de derrotas\n",
        "plt.bar(r, coluna3, bottom=[i+j for i,j in zip(coluna1, coluna2)], color='red', edgecolor='white',\n",
        "        width=barWidth,label='Derrotas')\n",
        "\n",
        "# Eixo X\n",
        "plt.xticks(r, nomes)\n",
        "plt.xlabel(\"Anos\")\n",
        "plt.ylabel(\"Proporção\")\n",
        "plt.title(\"Dist. de resultados em casa\")\n",
        " \n",
        "# Visualizar o gráfico\n",
        "plt.legend()\n",
        "#plt.show()\n",
        "grafico4 =plt.savefig('/usr/local/share/jupyter/nbextensions/grafico4.png')\n",
        "\n",
        "plt.close(grafico4)\n",
        "\n",
        "resultado_casa['% Aprov.']= round((3*resultado_casa['Vitórias']+resultado_casa['Empates'])/(3*resultado_casa['Jogos']),2)\n",
        "#print(resultado_casa)\n",
        "df = resultado_casa\n",
        "df.to_csv('resultado_casa.csv', sep='\\t', encoding='utf-8')\n",
        "htmtable5 = df.head().to_html(classes=\"table table-hover table-dark table-responsive\")\n",
        "\n",
        "coluna1 = resultado_casa['% Aprov.']\n",
        "\n",
        "# gráfico\n",
        "barWidth = 0.9\n",
        "# Criando a barra de aproveitamento\n",
        "plt.bar(r, coluna1, color='black', width=barWidth)\n",
        "\n",
        "# Eixo X\n",
        "plt.xticks(r, nomes)\n",
        "plt.xlabel(\"Anos\")\n",
        "plt.ylabel(\"Aproveitamento\")\n",
        "plt.title(\"Aproveitamento em casa\")\n",
        "\n",
        "plt.rcParams[\"figure.figsize\"] = [12,6]\n",
        " \n",
        "# Visualizar o gráfico\n",
        "#plt.show()\n",
        "grafico5 =plt.savefig('/usr/local/share/jupyter/nbextensions/grafico5.png')\n",
        "\n",
        "plt.close(grafico5)\n",
        "\n",
        "# Contar o número de vitórias\n",
        "vitorias_fora=visitante.groupby('Ano')['Vencedor'].apply(lambda x: (x=='Vasco').sum()).reset_index(name='Vitórias')\n",
        "\n",
        "# Contar o número de empates\n",
        "empates_fora=visitante.groupby('Ano')['Vencedor'].apply(lambda x: (x=='Empate').sum()).reset_index(name='Empates')\n",
        "\n",
        "# Juntar os dataframes\n",
        "resultado_fora = jogos_visitante.merge(vitorias_fora, how='left', on='Ano')\n",
        "resultado_fora = resultado_fora.merge(empates_fora, how='left', on='Ano') \n",
        "\n",
        "# Ajeitar coluna\n",
        "resultado_fora = resultado_fora.rename(columns={\"Partidas visitante\":\"Jogos\"})\n",
        "\n",
        "# Criar coluna de derrotas\n",
        "resultado_fora['Derrotas']= resultado_fora['Jogos'] - resultado_fora['Vitórias']-resultado_fora['Empates']\n",
        "\n",
        "coluna1 = resultado_fora['Vitórias']/resultado_fora['Jogos']\n",
        "coluna2 = resultado_fora['Empates']/resultado_fora['Jogos']\n",
        "coluna3 = resultado_fora['Derrotas']/resultado_fora['Jogos']\n",
        "\n",
        "# gráfico\n",
        "barWidth = 0.9\n",
        "# Criando a barra de vitórias\n",
        "plt.bar(r, coluna1, color='green', edgecolor='white', width=barWidth,label='Vitórias')\n",
        "# Criando a barra de empates\n",
        "plt.bar(r, coluna2, bottom=coluna1, color='gray', edgecolor='white', width=barWidth,label='Empates')\n",
        "# Criando a barra de derrotas\n",
        "plt.bar(r, coluna3, bottom=[i+j for i,j in zip(coluna1, coluna2)], color='red', edgecolor='white',\n",
        "        width=barWidth,label='Derrotas')\n",
        "\n",
        "# Eixo X\n",
        "plt.xticks(r, nomes)\n",
        "plt.xlabel(\"Anos\")\n",
        "plt.ylabel(\"Proporção\")\n",
        "plt.title(\"Dist. de resultados fora de casa\")\n",
        " \n",
        "# Visualizar o gráfico\n",
        "plt.legend()\n",
        "#plt.show()\n",
        "grafico6 =plt.savefig('/usr/local/share/jupyter/nbextensions/grafico6.png')\n",
        "\n",
        "plt.close(grafico6)\n",
        "\n",
        "resultado_fora['% Aprov.']= round((3*resultado_fora['Vitórias']+resultado_fora['Empates'])/(3*resultado_fora['Jogos']),2)\n",
        "\n",
        "coluna1 = resultado_fora['% Aprov.']\n",
        "\n",
        "# gráfico\n",
        "barWidth = 0.9\n",
        "# Criando a barra de aproveitamento\n",
        "plt.bar(r, coluna1, color='black', width=barWidth)\n",
        "\n",
        "# Eixo X\n",
        "plt.xticks(r, nomes)\n",
        "plt.xlabel(\"Anos\")\n",
        "plt.ylabel(\"Aproveitamento\")\n",
        "plt.title(\"Aproveitamento fora de casa\")\n",
        "\n",
        "plt.rcParams[\"figure.figsize\"] = [12,6]\n",
        " \n",
        "# Visualizar o gráfico\n",
        "#plt.show()\n",
        "grafico7 =plt.savefig('/usr/local/share/jupyter/nbextensions/grafico7.png')\n",
        "\n",
        "plt.close(grafico7)\n",
        "\n",
        "# Deletar colunas de aproveitamento\n",
        "resultado_casa = resultado_casa.drop(['% Aprov.'], axis = 1)\n",
        "resultado_fora = resultado_fora.drop(['% Aprov.'], axis = 1)\n",
        "\n",
        "# Deletar coluna repetida\n",
        "resultado_casa = resultado_casa.drop(['Jogos'], axis = 1)\n",
        "resultado_fora = resultado_fora.drop(['Jogos'], axis = 1)\n",
        "\n",
        "# Renomear colunas\n",
        "resultado_casa = resultado_casa.rename(columns={\"Vitórias\":\"Vit casa\",\"Empates\":\"Emp casa\",\"Derrotas\":\"Der casa\"})\n",
        "resultado_fora = resultado_fora.rename(columns={\"Vitórias\":\"Vit fora\",\"Empates\":\"Emp fora\",\"Derrotas\":\"Der fora\"})\n",
        "\n",
        "# Juntar dataframes\n",
        "resultado = jogos.merge(resultado_casa, how='left', on='Ano')\n",
        "resultado = resultado.merge(resultado_fora, how='left', on='Ano')\n",
        "\n",
        "# Coluna de Pontos\n",
        "resultado['Pts'] = 3*(resultado['Vit casa']+resultado['Vit fora'])+resultado['Emp casa']+resultado['Emp fora']\n",
        "\n",
        "# Coluna com a proporção de pontos conquistados em casa\n",
        "resultado['% Pts casa']= round((3*resultado['Vit casa']+resultado['Emp casa'])/resultado['Pts'],2)\n",
        "\n",
        "# Coluna com a proporção de pontos conquistados fora de casa\n",
        "resultado['% Pts fora']= round((3*resultado['Vit fora']+resultado['Emp fora'])/resultado['Pts'],2)\n",
        "\n",
        "resultado['Vit'] = resultado['Vit casa'] + resultado['Vit fora']\n",
        "resultado['Der'] = resultado['Der casa'] + resultado['Der fora']\n",
        "resultado['Emp'] = resultado['Emp casa'] + resultado['Emp fora']\n",
        "\n",
        "coluna1 = resultado['Vit']/resultado['Jogos']\n",
        "coluna2 = resultado['Emp']/resultado['Jogos']\n",
        "coluna3 = resultado['Der']/resultado['Jogos']\n",
        "\n",
        "# gráfico\n",
        "barWidth = 0.9\n",
        "# Criando a barra de vitórias\n",
        "plt.bar(r, coluna1, color='green', edgecolor='white', width=barWidth,label='Vitórias')\n",
        "# Criando a barra de empates\n",
        "plt.bar(r, coluna2, bottom=coluna1, color='gray', edgecolor='white', width=barWidth,label='Empates')\n",
        "# Criando a barra de derrotas\n",
        "plt.bar(r, coluna3, bottom=[i+j for i,j in zip(coluna1, coluna2)], color='red', edgecolor='white',\n",
        "        width=barWidth,label='Derrotas')\n",
        "\n",
        "# Eixo X\n",
        "plt.xticks(r, nomes)\n",
        "plt.xlabel(\"Anos\")\n",
        "plt.ylabel(\"Proporção\")\n",
        "plt.title(\"Dist. de resultados\")\n",
        " \n",
        "# Visualizar o gráfico\n",
        "plt.legend()\n",
        "#plt.show()\n",
        "grafico8 =plt.savefig('/usr/local/share/jupyter/nbextensions/grafico8.png')\n",
        "\n",
        "plt.close(grafico8)\n",
        "\n",
        "resultado['% Aprov.']= round((3*resultado['Vit']+resultado['Emp'])/(3*resultado['Jogos']),2)\n",
        "\n",
        "coluna1 = resultado['% Aprov.']\n",
        "\n",
        "# gráfico\n",
        "barWidth = 0.9\n",
        "# Criando a barra de aproveitamento\n",
        "plt.bar(r, coluna1, color='black', width=barWidth)\n",
        "\n",
        "# Eixo X\n",
        "plt.xticks(r, nomes)\n",
        "plt.xlabel(\"Anos\")\n",
        "plt.ylabel(\"Aproveitamento\")\n",
        "plt.title(\"Aproveitamento de pontos\")\n",
        "\n",
        "plt.rcParams[\"figure.figsize\"] = [12,6]\n",
        " \n",
        "# Visualizar o gráfico\n",
        "#plt.show()\n",
        "grafico9 =plt.savefig('/usr/local/share/jupyter/nbextensions/grafico9.png')\n",
        "\n",
        "plt.close(grafico9)\n",
        "\n",
        "coluna1 = resultado['Pts']\n",
        "\n",
        "# gráfico\n",
        "barWidth = 0.9\n",
        "# Criando a barra de pontos conquistados\n",
        "plt.bar(r, coluna1, color='black', width=barWidth)\n",
        "\n",
        "# Eixo X\n",
        "plt.xticks(r, nomes)\n",
        "plt.xlabel(\"Anos\")\n",
        "plt.ylabel(\"Pontos\")\n",
        "plt.title(\"Pontos Conquistados\")\n",
        "\n",
        "plt.rcParams[\"figure.figsize\"] = [12,6]\n",
        " \n",
        "# Visualizar o gráfico\n",
        "#plt.show()\n",
        "grafico10 =plt.savefig('/usr/local/share/jupyter/nbextensions/grafico10.png')\n",
        "\n",
        "plt.close(grafico10)\n",
        "\n",
        "coluna1 = resultado['% Pts casa']\n",
        "coluna2 = resultado['% Pts fora']\n",
        "\n",
        "# gráfico\n",
        "barWidth = 0.9\n",
        "# Criando a barra de pontos conquistados em casa\n",
        "plt.bar(r, coluna1, color='blue', edgecolor='white', width=barWidth,label='% Pts Casa')\n",
        "# Criando a barra de pontos conquistados fora de casa\n",
        "plt.bar(r, coluna2, bottom=coluna1, color='black', edgecolor='white', width=barWidth,label='% Pts Fora')\n",
        "\n",
        "# Eixo X\n",
        "plt.xticks(r, nomes)\n",
        "plt.xlabel(\"Anos\")\n",
        "plt.ylabel(\"Proporção\")\n",
        "plt.title(\"Dist. de pontos conquistados em casa e fora\")\n",
        " \n",
        "plt.rcParams[\"figure.figsize\"] = [12,6]\n",
        "    \n",
        "# Visualizar o gráfico\n",
        "plt.legend()\n",
        "#plt.show()\n",
        "grafico11 =plt.savefig('/usr/local/share/jupyter/nbextensions/grafico11.png')\n",
        "\n",
        "plt.close(grafico11)\n",
        "\n",
        "\n",
        "display(HTML('<head>'+\n",
        "             '<link rel=\"stylesheet\" href=\"https://stackpath.bootstrapcdn.com/bootstrap/4.5.2/css/bootstrap.min.css\" integrity=\"sha384-JcKb8q3iqJ61gNV9KGb8thSsNjpSL0n8PARn9HuZOnIxN0hoP+VmmDGMN5t9UJ0Z\" crossorigin=\"anonymous\">'+\n",
        "             '<style>.conteudo{background:black;}.dataframe{background:black;border-collapse: inherit;} .table.dataframe > tbody > tr:hover{background-color:black!important} .table.dataframe tbody tr:nth-child(odd){background-color:black!important}</style>'\n",
        "  '</head>'+\n",
        "   '<body><div class=\"container\"><div class=\"row\"><div class=\"col-md-12\">'+\n",
        "  '<div class=\"jumbotron jumbotron-fluid\">'+'<div class=\"container\">'+\n",
        "    '<h1 class=\"display-4\">Análise de Performance do Vasco da Gama no Campeonato Brasileiro de 2003 até 2019</h1>'+\n",
        "    '<p class=\"lead\">Analisando o desempenho do Clube de Regatas Vasco da Gama no Campenonato Brasileiro a partir da modalidade de pontos corridos(2003) até 2019. O dataset utilizado pode ser encontrado para donwload nesse repositório: <a href=\" https://github.com/thelesson/Colab-Analise-de-Performace-do-Vasco-da-Gama-no-Campeonato-Brasileiro-de-2003-ate-2019\">Github</a>. Faça o download do arquivo csv: \"campeonato-brasileiro-full.csv\" e importe para a raiz do projeto no Colab, acessando o menu vertical esquerdo</p>'+\n",
        "  '</div></div>'+\n",
        "'</div></div><br/>'+'<div class=\"row\">'+\n",
        "'<div class=\"col-md-12\">'+'<div class=\"card\">'+\n",
        "  '<div class=\"card-header\">'+\n",
        "    'Dados 2000 até 2019'\n",
        "  +'</div>'+\n",
        "  '<div class=\"card-body\">'+\n",
        "    '<h5 class=\"card-title\"> 5 linhas iniciais contendo os dados dos jogos do brasileirão de 2000 até 2019</h5>'\n",
        "  +htmTable+\n",
        "    '<a href=\"#\" class=\"btn btn-primary\">Veja a tabela completa aqui</a>'+\n",
        "  '</div>'+\n",
        "'</div>'+'</div></div><br/><div class=\"row\">'+\n",
        "'<div class=\"col-md-6\">'\n",
        "+'<div class=\"card\">'+\n",
        "  '<div class=\"card-header\">'+\n",
        "    'Novo dataset contendo apenas os jogos do Vasco da Gama'+\n",
        "  '</div>'+\n",
        "  '<div class=\"card-body\">'+\n",
        "    '<h5 class=\"card-title\">Listando os 5 primeiros dados da tabela</h5>'+\n",
        "    htmtable2+\n",
        "    '<a href=\"#\" class=\"btn btn-primary\">Ver tabela completa</a>'+\n",
        "    '</div>'+\n",
        "'</div></div>'+\n",
        "'<div class=\"col-md-6\">'\n",
        "+'<div class=\"card\">'+\n",
        "  '<div class=\"card-header\">'+\n",
        "    'Jogos do Vasco da Gama no Campeonato Brasileiro 2003 - 2019'+\n",
        "  '</div>'+\n",
        "  '<div class=\"card-body\">'+\n",
        "    '<h5 class=\"card-title\">Listando a quantidade de jogos do Vasco em cada ano no Brasileirão</h5>'+\n",
        "    htmtable3+\n",
        "    '<a href=\"#\" class=\"btn btn-primary\">Ver tabela completa</a>'+\n",
        "    '</div>'+\n",
        "'</div></div></div>'+\n",
        "'<br/><div class=\"row\"> <div class=\"col-md-12\">'\n",
        "+'<div class=\"card\">'+\n",
        "  '<div class=\"card-header\">'+\n",
        "    'Gols marcados pelo Vasco da Gama no Campeonato Brasileiro 2003 - 2019'+\n",
        "  '</div>'+\n",
        "  '<div class=\"card-body\">'+\n",
        "    '<h5 class=\"card-title\">Listando a quantidade de gols do Vasco como mandante, visitante e totais</h5>'+\n",
        "    htmtable4+\n",
        "    '<a href=\"#\" class=\"btn btn-primary\">Ver tabela completa</a>'+\n",
        "    '</div>'+\n",
        "'</div></div></div>'+\n",
        "'<br/><div class=\"row\"><div class=\"col-md-6\">'\n",
        "+'<div class=\"card\">'+\n",
        "  '<div class=\"card-header\">'+\n",
        "    'Gráfico de Gols marcados pelo Vasco da Gama no Campeonato Brasileiro 2003 - 2019'+\n",
        "  '</div>'+\n",
        "  '<div class=\"card-body\">'+\n",
        "    '<h5 class=\"card-title\">Listando a quantidade total de gols do Vasco em cada ano</h5>'+\n",
        "    '<img style=\"width:100%\" src=\"/nbextensions/grafico1.png\" alt=\"Total de Gols\">'+\n",
        "    '</div>'+\n",
        "'</div></div>'+\n",
        "'<br/>'+\n",
        "'<div class=\"col-md-6\">'\n",
        "+'<div class=\"card\">'+\n",
        "  '<div class=\"card-header\">'+\n",
        "    'Gráfico da média de  Gols marcados pelo Vasco da Gama no Campeonato Brasileiro 2003 - 2019, por partida'+\n",
        "  '</div>'+\n",
        "  '<div class=\"card-body\">'+\n",
        "    '<h5 class=\"card-title\">Listando a média de gols do Vasco em cada ano, por partida</h5>'+\n",
        "    '<img style=\"width:100%\" src=\"/nbextensions/grafico2.png\" alt=\"Total de Gols\">'+\n",
        "    '</div>'+\n",
        "'</div></div></div>'+\n",
        "'<br/><div class=\"row\"> <div class=\"col-md-12\">'\n",
        "+'<div class=\"card\">'+\n",
        "  '<div class=\"card-header\">'+\n",
        "    'Distribuição dos gols em casa e fora de casa feitos pelo Vasco da Gama no Campeonato Brasileiro 2003 - 2019'+\n",
        "  '</div>'+\n",
        "  '<div class=\"card-body\">'+\n",
        "    '<h5 class=\"card-title\">Comparando a quantidade de gols do Vasco feitos como mandante e como visitante</h5>'+\n",
        "    '<img style=\"width:100%\" src=\"/nbextensions/grafico3.png\" alt=\"Total de Gols\">'\n",
        "    +\n",
        "    '</div>'+\n",
        "'</div></div></div>'+\n",
        "'<br/><div class=\"row\"> <div class=\"col-md-12\">'+\n",
        "  '<h1>'+frase1+'</h1><br/><h1>'+frase2+'</h1><br/><h1>'+frase3+'</h1></div></div>'+\n",
        "  '<br/><div class=\"row\"> <div class=\"col-md-12\">'\n",
        "+'<div class=\"card\">'+\n",
        "  '<div class=\"card-header\">'+\n",
        "    'Gráfico de desempenho do Vasco da Gama jogando em casa'+\n",
        "  '</div>'+\n",
        "  '<div class=\"card-body\">'+\n",
        "    '<h5 class=\"card-title\">Distribuição do desempenho do Vasco jogando em casa de 2003 - 2019</h5>'+\n",
        "    '<img style=\"width:100%\" src=\"/nbextensions/grafico4.png\" alt=\"Total de Gols\">'\n",
        "    +\n",
        "    '</div>'+\n",
        "'</div></div></div>'+\n",
        "'<br/><div class=\"row\">'+\n",
        "'<div class=\"col-md-12\">'+'<div class=\"card\">'+\n",
        "  '<div class=\"card-header\">'+\n",
        "    'Aproveitamento de pontos em casa'\n",
        "  +'</div>'+\n",
        "  '<div class=\"card-body\">'+\n",
        "    '<h5 class=\"card-title\">Tabela contendo a relação de aproveitamento do Vasco da Gama em cada ano do Campeonato Brasileiro - 2003 -2019</h5>'\n",
        "  +htmtable5+\n",
        "    '<a href=\"#\" class=\"btn btn-primary\">Veja a tabela completa aqui</a>'+\n",
        "  '</div>'+\n",
        "'</div>'+'</div></div>'+\n",
        "'<br/><div class=\"row\"> <div class=\"col-md-12\">'\n",
        "+'<div class=\"card\">'+\n",
        "  '<div class=\"card-header\">'+\n",
        "    'Gráfico de aproveitamento do Vasco em casa'+\n",
        "  '</div>'+\n",
        "  '<div class=\"card-body\">'+\n",
        "    '<h5 class=\"card-title\">Gráfico do desempenho do Vasco jogando em casa de 2003 - 2019</h5>'+\n",
        "    '<img style=\"width:100%\" src=\"/nbextensions/grafico5.png\" alt=\"Total de Gols\">'\n",
        "    +\n",
        "    '</div>'+\n",
        "'</div></div></div>'+\n",
        "'<br/><div class=\"row\"> <div class=\"col-md-12\">'\n",
        "+'<div class=\"card\">'+\n",
        "  '<div class=\"card-header\">'+\n",
        "    'Gráfico de desempenho do Vasco jogando fora de casa'+\n",
        "  '</div>'+\n",
        "  '<div class=\"card-body\">'+\n",
        "    '<h5 class=\"card-title\">Gráfico do desempenho do Vasco jogando fora de casa - 2003 - 2019</h5>'+\n",
        "    '<img style=\"width:100%\" src=\"/nbextensions/grafico6.png\" alt=\"Total de Gols\">'\n",
        "    +\n",
        "    '</div>'+\n",
        "'</div></div></div>'+\n",
        "'<br/><div class=\"row\"> <div class=\"col-md-12\">'\n",
        "+'<div class=\"card\">'+\n",
        "  '<div class=\"card-header\">'+\n",
        "    'Gráfico de aproveitamento dos pontos do Vasco jogando fora de casa'+\n",
        "  '</div>'+\n",
        "  '<div class=\"card-body\">'+\n",
        "    '<h5 class=\"card-title\">Gráfico do aproveitamento do pontos do  Vasco jogando fora de casa - 2003 - 2019</h5>'+\n",
        "    '<img style=\"width:100%\" src=\"/nbextensions/grafico7.png\" alt=\"Total de Gols\">'\n",
        "    +\n",
        "    '</div>'+\n",
        "'</div></div></div>'+\n",
        "'<br/><div class=\"row\"> <div class=\"col-md-12\">'\n",
        "+'<div class=\"card\">'+\n",
        "  '<div class=\"card-header\">'+\n",
        "    'Gráfico de aproveitamento total do Vasco em cada ano'+\n",
        "  '</div>'+\n",
        "  '<div class=\"card-body\">'+\n",
        "    '<h5 class=\"card-title\">Gráfico do aproveitamento total Vasco  2003 - 2019</h5>'+\n",
        "    '<img style=\"width:100%\" src=\"/nbextensions/grafico8.png\" alt=\"Total de Gols\">'\n",
        "    +\n",
        "    '</div>'+\n",
        "'</div></div></div>'+\n",
        "'<br/><div class=\"row\"> <div class=\"col-md-12\">'\n",
        "+'<div class=\"card\">'+\n",
        "  '<div class=\"card-header\">'+\n",
        "    'Gráfico de aproveitamento dos pontos totais do Vasco em cada ano'+\n",
        "  '</div>'+\n",
        "  '<div class=\"card-body\">'+\n",
        "    '<h5 class=\"card-title\">Gráfico do aproveitamento dos pontos totais Vasco  2003 - 2019</h5>'+\n",
        "    '<img style=\"width:100%\" src=\"/nbextensions/grafico9.png\" alt=\"Total de Gols\">'\n",
        "    +\n",
        "    '</div>'+\n",
        "'</div></div></div>'+\n",
        "'<br/><div class=\"row\"> <div class=\"col-md-12\">'\n",
        "+'<div class=\"card\">'+\n",
        "  '<div class=\"card-header\">'+\n",
        "    'Grafico de exibição dos pontos conquistados pelo Vasco da Gama em cada ano'+\n",
        "  '</div>'+\n",
        "  '<div class=\"card-body\">'+\n",
        "    '<h5 class=\"card-title\">Gráfico do exibição dos pontos conquistados pelo Vasco  2003 - 2019</h5>'+\n",
        "    '<img style=\"width:100%\" src=\"/nbextensions/grafico10.png\" alt=\"Total de Gols\">'\n",
        "    +\n",
        "    '</div>'+\n",
        "'</div></div></div>'+\n",
        "'<br/><div class=\"row\"> <div class=\"col-md-12\">'\n",
        "+'<div class=\"card\">'+\n",
        "  '<div class=\"card-header\">'+\n",
        "    'Grafico Comparativo de pontos conquistados dentro e fora de casa pelo Vasco da Gama'+\n",
        "  '</div>'+\n",
        "  '<div class=\"card-body\">'+\n",
        "    '<h5 class=\"card-title\">Gráfico de exibição comparativa dos pontos conquistados dentro e fora de casa pelo Vasco  2003 - 2019</h5>'+\n",
        "    '<img style=\"width:100%\" src=\"/nbextensions/grafico11.png\" alt=\"Total de Gols\">'\n",
        "    +\n",
        "    '</div>'+\n",
        "'</div></div></div>'\n",
        "'<script src=\"https://code.jquery.com/jquery-3.3.1.slim.min.js\" integrity=\"sha384-q8i/X+965DzO0rT7abK41JStQIAqVgRVzpbzo5smXKp4YfRvH+8abtTE1Pi6jizo\" crossorigin=\"anonymous\"></script>'+\n",
        "'<script src=\"https://cdnjs.cloudflare.com/ajax/libs/popper.js/1.14.7/umd/popper.min.js\" integrity=\"sha384-UO2eT0CpHqdSJQ6hJty5KVphtPhzWj9WO1clHTMGa3JDZwrnQq4sF86dIHNDz0W1\" crossorigin=\"anonymous\"></script>'+\n",
        "'<script src=\"https://stackpath.bootstrapcdn.com/bootstrap/4.3.1/js/bootstrap.min.js\" integrity=\"sha384-JjSmVgyd0p3pXB1rRibZUAYoIIy6OrQ6VrjIEaFf/nJGzIxFDsf4x0xIM+B07jRM\" crossorigin=\"anonymous\"></script>'+\n",
        "'</body></html>'))"
      ],
      "execution_count": 42,
      "outputs": [
        {
          "output_type": "display_data",
          "data": {
            "text/html": [
              "<head><link rel=\"stylesheet\" href=\"https://stackpath.bootstrapcdn.com/bootstrap/4.5.2/css/bootstrap.min.css\" integrity=\"sha384-JcKb8q3iqJ61gNV9KGb8thSsNjpSL0n8PARn9HuZOnIxN0hoP+VmmDGMN5t9UJ0Z\" crossorigin=\"anonymous\"><style>.conteudo{background:black;}.dataframe{background:black;border-collapse: inherit;} .table.dataframe > tbody > tr:hover{background-color:black!important} .table.dataframe tbody tr:nth-child(odd){background-color:black!important}</style></head><body><div class=\"container\"><div class=\"row\"><div class=\"col-md-12\"><div class=\"jumbotron jumbotron-fluid\"><div class=\"container\"><h1 class=\"display-4\">Análise de Performace do Vasco da Gama no Campeonato Brasileiro de 2003 até 2019</h1><p class=\"lead\">Analisando o desempenho do Clube de Regatas Vasco da Gama no Campenonato Brasileiro a partir da modalidade de pontos corridos(2003) até 2019. O dataset utilizado pode ser encontrado para donwload nesse repositório: <a href=\" https://github.com/thelesson/Colab-Analise-de-Performace-do-Vasco-da-Gama-no-Campeonato-Brasileiro-de-2003-ate-2019\">Github</a>. Faça o download do arquivo csv: \"campeonato-brasileiro-full.csv\" e importe para a raiz do projeto no Colab, acessando o menu vertical esquerdo</p></div></div></div></div><br/><div class=\"row\"><div class=\"col-md-12\"><div class=\"card\"><div class=\"card-header\">Dados 2000 até 2019</div><div class=\"card-body\"><h5 class=\"card-title\"> 5 linhas iniciais contendo os dados dos jogos do brasileirão de 2000 até 2019</h5><table border=\"1\" class=\"dataframe table table-hover table-dark table-responsive\">\n",
              "  <thead>\n",
              "    <tr style=\"text-align: right;\">\n",
              "      <th></th>\n",
              "      <th>Horário</th>\n",
              "      <th>Dia</th>\n",
              "      <th>Data</th>\n",
              "      <th>Clube 1</th>\n",
              "      <th>Clube 2</th>\n",
              "      <th>Vencedor</th>\n",
              "      <th>Rodada</th>\n",
              "      <th>Arena</th>\n",
              "      <th>Clube 1 Gols</th>\n",
              "      <th>Clube 2 Gols</th>\n",
              "      <th>Clube 1 Estado</th>\n",
              "      <th>Clube 2 Estado</th>\n",
              "      <th>Estado Clube Vencedor</th>\n",
              "    </tr>\n",
              "  </thead>\n",
              "  <tbody>\n",
              "    <tr>\n",
              "      <th>0</th>\n",
              "      <td>16h00</td>\n",
              "      <td>Sábado</td>\n",
              "      <td>2000-07-29</td>\n",
              "      <td>Fluminense</td>\n",
              "      <td>Bahia</td>\n",
              "      <td>Fluminense</td>\n",
              "      <td>1ª Rodada</td>\n",
              "      <td>Maracanã</td>\n",
              "      <td>2</td>\n",
              "      <td>0</td>\n",
              "      <td>RJ</td>\n",
              "      <td>BA</td>\n",
              "      <td>RJ</td>\n",
              "    </tr>\n",
              "    <tr>\n",
              "      <th>1</th>\n",
              "      <td>16h00</td>\n",
              "      <td>Sábado</td>\n",
              "      <td>2000-07-29</td>\n",
              "      <td>Vasco</td>\n",
              "      <td>Sport</td>\n",
              "      <td>Sport</td>\n",
              "      <td>1ª Rodada</td>\n",
              "      <td>São Januário</td>\n",
              "      <td>0</td>\n",
              "      <td>2</td>\n",
              "      <td>RJ</td>\n",
              "      <td>PE</td>\n",
              "      <td>PE</td>\n",
              "    </tr>\n",
              "    <tr>\n",
              "      <th>2</th>\n",
              "      <td>16h00</td>\n",
              "      <td>Sábado</td>\n",
              "      <td>2000-07-29</td>\n",
              "      <td>Vitória</td>\n",
              "      <td>Palmeiras</td>\n",
              "      <td>Vitória</td>\n",
              "      <td>1ª Rodada</td>\n",
              "      <td>Barradão</td>\n",
              "      <td>4</td>\n",
              "      <td>1</td>\n",
              "      <td>ES</td>\n",
              "      <td>SP</td>\n",
              "      <td>ES</td>\n",
              "    </tr>\n",
              "    <tr>\n",
              "      <th>3</th>\n",
              "      <td>17h00</td>\n",
              "      <td>Domingo</td>\n",
              "      <td>2000-07-30</td>\n",
              "      <td>Botafogo-RJ</td>\n",
              "      <td>Atlético-MG</td>\n",
              "      <td>-</td>\n",
              "      <td>1ª Rodada</td>\n",
              "      <td>Caio Martins</td>\n",
              "      <td>0</td>\n",
              "      <td>0</td>\n",
              "      <td>RJ</td>\n",
              "      <td>MG</td>\n",
              "      <td>Empate</td>\n",
              "    </tr>\n",
              "    <tr>\n",
              "      <th>4</th>\n",
              "      <td>18h30</td>\n",
              "      <td>Domingo</td>\n",
              "      <td>2000-07-30</td>\n",
              "      <td>Juventude</td>\n",
              "      <td>Flamengo</td>\n",
              "      <td>-</td>\n",
              "      <td>1ª Rodada</td>\n",
              "      <td>Alfredo Jaconi</td>\n",
              "      <td>1</td>\n",
              "      <td>1</td>\n",
              "      <td>RS</td>\n",
              "      <td>RJ</td>\n",
              "      <td>Empate</td>\n",
              "    </tr>\n",
              "  </tbody>\n",
              "</table><a href=\"#\" class=\"btn btn-primary\">Veja a tabela completa aqui</a></div></div></div></div><br/><div class=\"row\"><div class=\"col-md-6\"><div class=\"card\"><div class=\"card-header\">Novo dataset contendo apenas os jogos do Vasco da Gama</div><div class=\"card-body\"><h5 class=\"card-title\">Listando os 5 primeiros dados da tabela</h5><table border=\"1\" class=\"dataframe table table-hover table-dark table-responsive\">\n",
              "  <thead>\n",
              "    <tr style=\"text-align: right;\">\n",
              "      <th></th>\n",
              "      <th>Data</th>\n",
              "      <th>Mandante</th>\n",
              "      <th>Visitante</th>\n",
              "      <th>Vencedor</th>\n",
              "      <th>Mandante Gols</th>\n",
              "      <th>Visitante Gols</th>\n",
              "      <th>Ano</th>\n",
              "    </tr>\n",
              "  </thead>\n",
              "  <tbody>\n",
              "    <tr>\n",
              "      <th>1054</th>\n",
              "      <td>2003-03-29</td>\n",
              "      <td>Guarani</td>\n",
              "      <td>Vasco</td>\n",
              "      <td>Guarani</td>\n",
              "      <td>4</td>\n",
              "      <td>2</td>\n",
              "      <td>2003</td>\n",
              "    </tr>\n",
              "    <tr>\n",
              "      <th>1075</th>\n",
              "      <td>2003-04-06</td>\n",
              "      <td>Vasco</td>\n",
              "      <td>Goiás</td>\n",
              "      <td>Vasco</td>\n",
              "      <td>6</td>\n",
              "      <td>4</td>\n",
              "      <td>2003</td>\n",
              "    </tr>\n",
              "    <tr>\n",
              "      <th>1089</th>\n",
              "      <td>2003-04-13</td>\n",
              "      <td>Vitória</td>\n",
              "      <td>Vasco</td>\n",
              "      <td>Vitória</td>\n",
              "      <td>2</td>\n",
              "      <td>1</td>\n",
              "      <td>2003</td>\n",
              "    </tr>\n",
              "    <tr>\n",
              "      <th>1091</th>\n",
              "      <td>2003-04-16</td>\n",
              "      <td>Vasco</td>\n",
              "      <td>Corinthians</td>\n",
              "      <td>Empate</td>\n",
              "      <td>2</td>\n",
              "      <td>2</td>\n",
              "      <td>2003</td>\n",
              "    </tr>\n",
              "    <tr>\n",
              "      <th>1112</th>\n",
              "      <td>2003-04-20</td>\n",
              "      <td>São Paulo</td>\n",
              "      <td>Vasco</td>\n",
              "      <td>São Paulo</td>\n",
              "      <td>3</td>\n",
              "      <td>1</td>\n",
              "      <td>2003</td>\n",
              "    </tr>\n",
              "  </tbody>\n",
              "</table><a href=\"#\" class=\"btn btn-primary\">Ver tabela completa</a></div></div></div><div class=\"col-md-6\"><div class=\"card\"><div class=\"card-header\">Jogos do Vasco da Gama no Campeonato Brasileiro 2003 - 2019</div><div class=\"card-body\"><h5 class=\"card-title\">Listando a quantidade de jogos do Vasco em cada ano no Brasileirão</h5><table border=\"1\" class=\"dataframe table table-hover table-dark table-responsive\">\n",
              "  <thead>\n",
              "    <tr style=\"text-align: right;\">\n",
              "      <th></th>\n",
              "      <th>Ano</th>\n",
              "      <th>Jogos</th>\n",
              "    </tr>\n",
              "  </thead>\n",
              "  <tbody>\n",
              "    <tr>\n",
              "      <th>0</th>\n",
              "      <td>2003</td>\n",
              "      <td>46</td>\n",
              "    </tr>\n",
              "    <tr>\n",
              "      <th>1</th>\n",
              "      <td>2004</td>\n",
              "      <td>46</td>\n",
              "    </tr>\n",
              "    <tr>\n",
              "      <th>2</th>\n",
              "      <td>2005</td>\n",
              "      <td>42</td>\n",
              "    </tr>\n",
              "    <tr>\n",
              "      <th>3</th>\n",
              "      <td>2006</td>\n",
              "      <td>38</td>\n",
              "    </tr>\n",
              "    <tr>\n",
              "      <th>4</th>\n",
              "      <td>2007</td>\n",
              "      <td>39</td>\n",
              "    </tr>\n",
              "  </tbody>\n",
              "</table><a href=\"#\" class=\"btn btn-primary\">Ver tabela completa</a></div></div></div></div><br/><div class=\"row\"> <div class=\"col-md-12\"><div class=\"card\"><div class=\"card-header\">Gols marcados pelo Vasco da Gama no Campeonato Brasileiro 2003 - 2019</div><div class=\"card-body\"><h5 class=\"card-title\">Listando a quantidade de gols do Vasco como mandante, visitante e totais</h5><table border=\"1\" class=\"dataframe table table-hover table-dark table-responsive\">\n",
              "  <thead>\n",
              "    <tr style=\"text-align: right;\">\n",
              "      <th></th>\n",
              "      <th>Ano</th>\n",
              "      <th>Partidas mandante</th>\n",
              "      <th>Mandante Gols</th>\n",
              "      <th>GP Mandante</th>\n",
              "      <th>Partidas visitante</th>\n",
              "      <th>Visitante Gols</th>\n",
              "      <th>GP Visitante</th>\n",
              "      <th>Partidas</th>\n",
              "      <th>Gols</th>\n",
              "      <th>GP Geral</th>\n",
              "    </tr>\n",
              "  </thead>\n",
              "  <tbody>\n",
              "    <tr>\n",
              "      <th>0</th>\n",
              "      <td>2003</td>\n",
              "      <td>23</td>\n",
              "      <td>32</td>\n",
              "      <td>1.39</td>\n",
              "      <td>23</td>\n",
              "      <td>25</td>\n",
              "      <td>1.09</td>\n",
              "      <td>46</td>\n",
              "      <td>57</td>\n",
              "      <td>1.24</td>\n",
              "    </tr>\n",
              "    <tr>\n",
              "      <th>1</th>\n",
              "      <td>2004</td>\n",
              "      <td>23</td>\n",
              "      <td>34</td>\n",
              "      <td>1.48</td>\n",
              "      <td>23</td>\n",
              "      <td>30</td>\n",
              "      <td>1.30</td>\n",
              "      <td>46</td>\n",
              "      <td>64</td>\n",
              "      <td>1.39</td>\n",
              "    </tr>\n",
              "    <tr>\n",
              "      <th>2</th>\n",
              "      <td>2005</td>\n",
              "      <td>21</td>\n",
              "      <td>42</td>\n",
              "      <td>2.00</td>\n",
              "      <td>21</td>\n",
              "      <td>33</td>\n",
              "      <td>1.57</td>\n",
              "      <td>42</td>\n",
              "      <td>75</td>\n",
              "      <td>1.79</td>\n",
              "    </tr>\n",
              "    <tr>\n",
              "      <th>3</th>\n",
              "      <td>2006</td>\n",
              "      <td>19</td>\n",
              "      <td>30</td>\n",
              "      <td>1.58</td>\n",
              "      <td>19</td>\n",
              "      <td>27</td>\n",
              "      <td>1.42</td>\n",
              "      <td>38</td>\n",
              "      <td>57</td>\n",
              "      <td>1.50</td>\n",
              "    </tr>\n",
              "    <tr>\n",
              "      <th>4</th>\n",
              "      <td>2007</td>\n",
              "      <td>20</td>\n",
              "      <td>43</td>\n",
              "      <td>2.15</td>\n",
              "      <td>19</td>\n",
              "      <td>18</td>\n",
              "      <td>0.95</td>\n",
              "      <td>39</td>\n",
              "      <td>61</td>\n",
              "      <td>1.56</td>\n",
              "    </tr>\n",
              "  </tbody>\n",
              "</table><a href=\"#\" class=\"btn btn-primary\">Ver tabela completa</a></div></div></div></div><br/><div class=\"row\"><div class=\"col-md-6\"><div class=\"card\"><div class=\"card-header\">Gráfico de Gols marcados pelo Vasco da Gama no Campeonato Brasileiro 2003 - 2019</div><div class=\"card-body\"><h5 class=\"card-title\">Listando a quantidade total de gols do Vasco em cada ano</h5><img style=\"width:100%\" src=\"/nbextensions/grafico1.png\" alt=\"Total de Gols\"></div></div></div><br/><div class=\"col-md-6\"><div class=\"card\"><div class=\"card-header\">Gráfico da média de  Gols marcados pelo Vasco da Gama no Campeonato Brasileiro 2003 - 2019, por partida</div><div class=\"card-body\"><h5 class=\"card-title\">Listando a média de gols do Vasco em cada ano, por partida</h5><img style=\"width:100%\" src=\"/nbextensions/grafico2.png\" alt=\"Total de Gols\"></div></div></div></div><br/><div class=\"row\"> <div class=\"col-md-12\"><div class=\"card\"><div class=\"card-header\">Distribuição dos gols em casa e fora de casa feitos pelo Vasco da Gama no Campeonato Brasileiro 2003 - 2019</div><div class=\"card-body\"><h5 class=\"card-title\">Comparando a quantidade de gols do Vasco feitos como mandante e como visitante</h5><img style=\"width:100%\" src=\"/nbextensions/grafico3.png\" alt=\"Total de Gols\"></div></div></div></div><br/><div class=\"row\"> <div class=\"col-md-12\"><h1>O Vasco da Gama tem uma média de 1.3 gols por partida</h1><br/><h1>Em casa, o Vasco da Gama tem uma média de 276 gols por partida</h1><br/><h1>Fora de casa, o Vasco da Gama tem uma média de 1.1 gols por partida</h1></div></div><br/><div class=\"row\"> <div class=\"col-md-12\"><div class=\"card\"><div class=\"card-header\">Gráfico de desempenho do Vasco da Gama jogando em casa</div><div class=\"card-body\"><h5 class=\"card-title\">Distribuição do desempenho do Vasco jogando em casa de 2003 - 2019</h5><img style=\"width:100%\" src=\"/nbextensions/grafico4.png\" alt=\"Total de Gols\"></div></div></div></div><br/><div class=\"row\"><div class=\"col-md-12\"><div class=\"card\"><div class=\"card-header\">Aproveitamento de pontos em casa</div><div class=\"card-body\"><h5 class=\"card-title\">Tabela contendo a relação de aproveitamento do Vasco da Gama em cada ano do Campeonato Brasileiro - 2003 -2019</h5><table border=\"1\" class=\"dataframe table table-hover table-dark table-responsive\">\n",
              "  <thead>\n",
              "    <tr style=\"text-align: right;\">\n",
              "      <th></th>\n",
              "      <th>Ano</th>\n",
              "      <th>Jogos</th>\n",
              "      <th>Vitórias</th>\n",
              "      <th>Empates</th>\n",
              "      <th>Derrotas</th>\n",
              "      <th>% Aprov.</th>\n",
              "    </tr>\n",
              "  </thead>\n",
              "  <tbody>\n",
              "    <tr>\n",
              "      <th>0</th>\n",
              "      <td>2003</td>\n",
              "      <td>23</td>\n",
              "      <td>11</td>\n",
              "      <td>7</td>\n",
              "      <td>5</td>\n",
              "      <td>0.58</td>\n",
              "    </tr>\n",
              "    <tr>\n",
              "      <th>1</th>\n",
              "      <td>2004</td>\n",
              "      <td>23</td>\n",
              "      <td>9</td>\n",
              "      <td>6</td>\n",
              "      <td>8</td>\n",
              "      <td>0.48</td>\n",
              "    </tr>\n",
              "    <tr>\n",
              "      <th>2</th>\n",
              "      <td>2005</td>\n",
              "      <td>21</td>\n",
              "      <td>11</td>\n",
              "      <td>6</td>\n",
              "      <td>4</td>\n",
              "      <td>0.62</td>\n",
              "    </tr>\n",
              "    <tr>\n",
              "      <th>3</th>\n",
              "      <td>2006</td>\n",
              "      <td>19</td>\n",
              "      <td>8</td>\n",
              "      <td>9</td>\n",
              "      <td>2</td>\n",
              "      <td>0.58</td>\n",
              "    </tr>\n",
              "    <tr>\n",
              "      <th>4</th>\n",
              "      <td>2007</td>\n",
              "      <td>20</td>\n",
              "      <td>12</td>\n",
              "      <td>3</td>\n",
              "      <td>5</td>\n",
              "      <td>0.65</td>\n",
              "    </tr>\n",
              "  </tbody>\n",
              "</table><a href=\"#\" class=\"btn btn-primary\">Veja a tabela completa aqui</a></div></div></div></div><br/><div class=\"row\"> <div class=\"col-md-12\"><div class=\"card\"><div class=\"card-header\">Gráfico de aproveitamento do Vasco em casa</div><div class=\"card-body\"><h5 class=\"card-title\">Gráfico do desempenho do Vasco jogando em casa de 2003 - 2019</h5><img style=\"width:100%\" src=\"/nbextensions/grafico5.png\" alt=\"Total de Gols\"></div></div></div></div><br/><div class=\"row\"> <div class=\"col-md-12\"><div class=\"card\"><div class=\"card-header\">Gráfico de desempenho do Vasco jogando fora de casa</div><div class=\"card-body\"><h5 class=\"card-title\">Gráfico do desempenho do Vasco jogando fora de casa - 2003 - 2019</h5><img style=\"width:100%\" src=\"/nbextensions/grafico6.png\" alt=\"Total de Gols\"></div></div></div></div><br/><div class=\"row\"> <div class=\"col-md-12\"><div class=\"card\"><div class=\"card-header\">Gráfico de aproveitamento dos pontos do Vasco jogando fora de casa</div><div class=\"card-body\"><h5 class=\"card-title\">Gráfico do aproveitamento do pontos do  Vasco jogando fora de casa - 2003 - 2019</h5><img style=\"width:100%\" src=\"/nbextensions/grafico7.png\" alt=\"Total de Gols\"></div></div></div></div><br/><div class=\"row\"> <div class=\"col-md-12\"><div class=\"card\"><div class=\"card-header\">Gráfico de aproveitamento total do Vasco em cada ano</div><div class=\"card-body\"><h5 class=\"card-title\">Gráfico do aproveitamento total Vasco  2003 - 2019</h5><img style=\"width:100%\" src=\"/nbextensions/grafico8.png\" alt=\"Total de Gols\"></div></div></div></div><br/><div class=\"row\"> <div class=\"col-md-12\"><div class=\"card\"><div class=\"card-header\">Gráfico de aproveitamento dos pontos totais do Vasco em cada ano</div><div class=\"card-body\"><h5 class=\"card-title\">Gráfico do aproveitamento dos pontos totais Vasco  2003 - 2019</h5><img style=\"width:100%\" src=\"/nbextensions/grafico9.png\" alt=\"Total de Gols\"></div></div></div></div><br/><div class=\"row\"> <div class=\"col-md-12\"><div class=\"card\"><div class=\"card-header\">Grafico de exibição dos pontos conquistados pelo Vasco da Gama em cada ano</div><div class=\"card-body\"><h5 class=\"card-title\">Gráfico do exibição dos pontos conquistados pelo Vasco  2003 - 2019</h5><img style=\"width:100%\" src=\"/nbextensions/grafico10.png\" alt=\"Total de Gols\"></div></div></div></div><br/><div class=\"row\"> <div class=\"col-md-12\"><div class=\"card\"><div class=\"card-header\">Grafico Comparativo de pontos conquistados dentro e fora de casa pelo Vasco da Gama</div><div class=\"card-body\"><h5 class=\"card-title\">Gráfico de exibição comparativa dos pontos conquistados dentro e fora de casa pelo Vasco  2003 - 2019</h5><img style=\"width:100%\" src=\"/nbextensions/grafico11.png\" alt=\"Total de Gols\"></div></div></div></div><script src=\"https://code.jquery.com/jquery-3.3.1.slim.min.js\" integrity=\"sha384-q8i/X+965DzO0rT7abK41JStQIAqVgRVzpbzo5smXKp4YfRvH+8abtTE1Pi6jizo\" crossorigin=\"anonymous\"></script><script src=\"https://cdnjs.cloudflare.com/ajax/libs/popper.js/1.14.7/umd/popper.min.js\" integrity=\"sha384-UO2eT0CpHqdSJQ6hJty5KVphtPhzWj9WO1clHTMGa3JDZwrnQq4sF86dIHNDz0W1\" crossorigin=\"anonymous\"></script><script src=\"https://stackpath.bootstrapcdn.com/bootstrap/4.3.1/js/bootstrap.min.js\" integrity=\"sha384-JjSmVgyd0p3pXB1rRibZUAYoIIy6OrQ6VrjIEaFf/nJGzIxFDsf4x0xIM+B07jRM\" crossorigin=\"anonymous\"></script></body></html>"
            ],
            "text/plain": [
              "<IPython.core.display.HTML object>"
            ]
          },
          "metadata": {
            "tags": []
          }
        }
      ]
    }
  ]
}